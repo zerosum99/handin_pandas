{
 "cells": [
  {
   "cell_type": "code",
   "execution_count": 2,
   "metadata": {},
   "outputs": [],
   "source": [
    "import pandas as pd"
   ]
  },
  {
   "cell_type": "markdown",
   "metadata": {},
   "source": [
    "## 예제 7-4   샘플링 데이터 처리하기"
   ]
  },
  {
   "cell_type": "markdown",
   "metadata": {},
   "source": [
    "!python -m pip install --upgrade pip"
   ]
  },
  {
   "cell_type": "markdown",
   "metadata": {},
   "source": [
    "!pip install pandas_datareader --upgrade"
   ]
  },
  {
   "cell_type": "code",
   "execution_count": 3,
   "metadata": {},
   "outputs": [],
   "source": [
    "from pandas_datareader import data"
   ]
  },
  {
   "cell_type": "code",
   "execution_count": 4,
   "metadata": {},
   "outputs": [],
   "source": [
    "import datetime"
   ]
  },
  {
   "cell_type": "code",
   "execution_count": 23,
   "metadata": {},
   "outputs": [],
   "source": [
    "start = datetime.datetime(2018, 1, 2)"
   ]
  },
  {
   "cell_type": "code",
   "execution_count": 22,
   "metadata": {},
   "outputs": [],
   "source": [
    "end = datetime.datetime(2018, 4, 3)"
   ]
  },
  {
   "cell_type": "code",
   "execution_count": 25,
   "metadata": {},
   "outputs": [],
   "source": [
    "cel = data.DataReader(\"068270.KS\", \"yahoo\", start, end)"
   ]
  },
  {
   "cell_type": "code",
   "execution_count": 27,
   "metadata": {},
   "outputs": [
    {
     "data": {
      "text/html": [
       "<div>\n",
       "<style scoped>\n",
       "    .dataframe tbody tr th:only-of-type {\n",
       "        vertical-align: middle;\n",
       "    }\n",
       "\n",
       "    .dataframe tbody tr th {\n",
       "        vertical-align: top;\n",
       "    }\n",
       "\n",
       "    .dataframe thead th {\n",
       "        text-align: right;\n",
       "    }\n",
       "</style>\n",
       "<table border=\"1\" class=\"dataframe\">\n",
       "  <thead>\n",
       "    <tr style=\"text-align: right;\">\n",
       "      <th></th>\n",
       "      <th>High</th>\n",
       "      <th>Low</th>\n",
       "      <th>Open</th>\n",
       "      <th>Close</th>\n",
       "      <th>Volume</th>\n",
       "      <th>Adj Close</th>\n",
       "    </tr>\n",
       "    <tr>\n",
       "      <th>Date</th>\n",
       "      <th></th>\n",
       "      <th></th>\n",
       "      <th></th>\n",
       "      <th></th>\n",
       "      <th></th>\n",
       "      <th></th>\n",
       "    </tr>\n",
       "  </thead>\n",
       "  <tbody>\n",
       "    <tr>\n",
       "      <th>2018-01-02</th>\n",
       "      <td>227700</td>\n",
       "      <td>222200</td>\n",
       "      <td>223600</td>\n",
       "      <td>225900</td>\n",
       "      <td>1176443</td>\n",
       "      <td>225900</td>\n",
       "    </tr>\n",
       "    <tr>\n",
       "      <th>2018-01-03</th>\n",
       "      <td>247200</td>\n",
       "      <td>227100</td>\n",
       "      <td>228900</td>\n",
       "      <td>246700</td>\n",
       "      <td>2411162</td>\n",
       "      <td>246700</td>\n",
       "    </tr>\n",
       "    <tr>\n",
       "      <th>2018-01-04</th>\n",
       "      <td>261200</td>\n",
       "      <td>245300</td>\n",
       "      <td>249600</td>\n",
       "      <td>250000</td>\n",
       "      <td>3265527</td>\n",
       "      <td>250000</td>\n",
       "    </tr>\n",
       "    <tr>\n",
       "      <th>2018-01-05</th>\n",
       "      <td>267000</td>\n",
       "      <td>254000</td>\n",
       "      <td>254900</td>\n",
       "      <td>266900</td>\n",
       "      <td>1920918</td>\n",
       "      <td>266900</td>\n",
       "    </tr>\n",
       "    <tr>\n",
       "      <th>2018-01-08</th>\n",
       "      <td>303200</td>\n",
       "      <td>277200</td>\n",
       "      <td>278500</td>\n",
       "      <td>302500</td>\n",
       "      <td>4298770</td>\n",
       "      <td>302500</td>\n",
       "    </tr>\n",
       "  </tbody>\n",
       "</table>\n",
       "</div>"
      ],
      "text/plain": [
       "              High     Low    Open   Close   Volume  Adj Close\n",
       "Date                                                          \n",
       "2018-01-02  227700  222200  223600  225900  1176443     225900\n",
       "2018-01-03  247200  227100  228900  246700  2411162     246700\n",
       "2018-01-04  261200  245300  249600  250000  3265527     250000\n",
       "2018-01-05  267000  254000  254900  266900  1920918     266900\n",
       "2018-01-08  303200  277200  278500  302500  4298770     302500"
      ]
     },
     "execution_count": 27,
     "metadata": {},
     "output_type": "execute_result"
    }
   ],
   "source": [
    "cel.head()"
   ]
  },
  {
   "cell_type": "code",
   "execution_count": null,
   "metadata": {},
   "outputs": [],
   "source": []
  },
  {
   "cell_type": "code",
   "execution_count": 49,
   "metadata": {},
   "outputs": [
    {
     "data": {
      "text/html": [
       "<div>\n",
       "<style scoped>\n",
       "    .dataframe tbody tr th:only-of-type {\n",
       "        vertical-align: middle;\n",
       "    }\n",
       "\n",
       "    .dataframe tbody tr th {\n",
       "        vertical-align: top;\n",
       "    }\n",
       "\n",
       "    .dataframe thead th {\n",
       "        text-align: right;\n",
       "    }\n",
       "</style>\n",
       "<table border=\"1\" class=\"dataframe\">\n",
       "  <thead>\n",
       "    <tr style=\"text-align: right;\">\n",
       "      <th></th>\n",
       "      <th>High</th>\n",
       "      <th>Low</th>\n",
       "      <th>Open</th>\n",
       "      <th>Close</th>\n",
       "      <th>Volume</th>\n",
       "      <th>Adj Close</th>\n",
       "    </tr>\n",
       "    <tr>\n",
       "      <th>Date</th>\n",
       "      <th></th>\n",
       "      <th></th>\n",
       "      <th></th>\n",
       "      <th></th>\n",
       "      <th></th>\n",
       "      <th></th>\n",
       "    </tr>\n",
       "  </thead>\n",
       "  <tbody>\n",
       "    <tr>\n",
       "      <th>2018-01-16</th>\n",
       "      <td>350400</td>\n",
       "      <td>335200</td>\n",
       "      <td>341000</td>\n",
       "      <td>347400</td>\n",
       "      <td>1649629</td>\n",
       "      <td>347400</td>\n",
       "    </tr>\n",
       "    <tr>\n",
       "      <th>2018-02-20</th>\n",
       "      <td>319000</td>\n",
       "      <td>301000</td>\n",
       "      <td>313500</td>\n",
       "      <td>304000</td>\n",
       "      <td>1087076</td>\n",
       "      <td>304000</td>\n",
       "    </tr>\n",
       "    <tr>\n",
       "      <th>2018-01-12</th>\n",
       "      <td>374000</td>\n",
       "      <td>317500</td>\n",
       "      <td>324600</td>\n",
       "      <td>341500</td>\n",
       "      <td>5792144</td>\n",
       "      <td>341500</td>\n",
       "    </tr>\n",
       "  </tbody>\n",
       "</table>\n",
       "</div>"
      ],
      "text/plain": [
       "              High     Low    Open   Close   Volume  Adj Close\n",
       "Date                                                          \n",
       "2018-01-16  350400  335200  341000  347400  1649629     347400\n",
       "2018-02-20  319000  301000  313500  304000  1087076     304000\n",
       "2018-01-12  374000  317500  324600  341500  5792144     341500"
      ]
     },
     "execution_count": 49,
     "metadata": {},
     "output_type": "execute_result"
    }
   ],
   "source": [
    "cel.sample(n=3)"
   ]
  },
  {
   "cell_type": "code",
   "execution_count": 50,
   "metadata": {},
   "outputs": [
    {
     "data": {
      "text/html": [
       "<div>\n",
       "<style scoped>\n",
       "    .dataframe tbody tr th:only-of-type {\n",
       "        vertical-align: middle;\n",
       "    }\n",
       "\n",
       "    .dataframe tbody tr th {\n",
       "        vertical-align: top;\n",
       "    }\n",
       "\n",
       "    .dataframe thead th {\n",
       "        text-align: right;\n",
       "    }\n",
       "</style>\n",
       "<table border=\"1\" class=\"dataframe\">\n",
       "  <thead>\n",
       "    <tr style=\"text-align: right;\">\n",
       "      <th></th>\n",
       "      <th>High</th>\n",
       "      <th>Low</th>\n",
       "      <th>Open</th>\n",
       "      <th>Close</th>\n",
       "      <th>Volume</th>\n",
       "      <th>Adj Close</th>\n",
       "    </tr>\n",
       "    <tr>\n",
       "      <th>Date</th>\n",
       "      <th></th>\n",
       "      <th></th>\n",
       "      <th></th>\n",
       "      <th></th>\n",
       "      <th></th>\n",
       "      <th></th>\n",
       "    </tr>\n",
       "  </thead>\n",
       "  <tbody>\n",
       "    <tr>\n",
       "      <th>2018-01-25</th>\n",
       "      <td>295000</td>\n",
       "      <td>282300</td>\n",
       "      <td>291300</td>\n",
       "      <td>289700</td>\n",
       "      <td>1393842</td>\n",
       "      <td>289700</td>\n",
       "    </tr>\n",
       "    <tr>\n",
       "      <th>2018-03-16</th>\n",
       "      <td>332500</td>\n",
       "      <td>321000</td>\n",
       "      <td>325000</td>\n",
       "      <td>324000</td>\n",
       "      <td>1357702</td>\n",
       "      <td>324000</td>\n",
       "    </tr>\n",
       "    <tr>\n",
       "      <th>2018-03-08</th>\n",
       "      <td>354000</td>\n",
       "      <td>330500</td>\n",
       "      <td>331000</td>\n",
       "      <td>354000</td>\n",
       "      <td>7741422</td>\n",
       "      <td>354000</td>\n",
       "    </tr>\n",
       "  </tbody>\n",
       "</table>\n",
       "</div>"
      ],
      "text/plain": [
       "              High     Low    Open   Close   Volume  Adj Close\n",
       "Date                                                          \n",
       "2018-01-25  295000  282300  291300  289700  1393842     289700\n",
       "2018-03-16  332500  321000  325000  324000  1357702     324000\n",
       "2018-03-08  354000  330500  331000  354000  7741422     354000"
      ]
     },
     "execution_count": 50,
     "metadata": {},
     "output_type": "execute_result"
    }
   ],
   "source": [
    "cel.sample(n=3)"
   ]
  },
  {
   "cell_type": "code",
   "execution_count": null,
   "metadata": {},
   "outputs": [],
   "source": []
  },
  {
   "cell_type": "markdown",
   "metadata": {},
   "source": [
    "#### 무작위적으로 처리"
   ]
  },
  {
   "cell_type": "code",
   "execution_count": 51,
   "metadata": {},
   "outputs": [
    {
     "data": {
      "text/html": [
       "<div>\n",
       "<style scoped>\n",
       "    .dataframe tbody tr th:only-of-type {\n",
       "        vertical-align: middle;\n",
       "    }\n",
       "\n",
       "    .dataframe tbody tr th {\n",
       "        vertical-align: top;\n",
       "    }\n",
       "\n",
       "    .dataframe thead th {\n",
       "        text-align: right;\n",
       "    }\n",
       "</style>\n",
       "<table border=\"1\" class=\"dataframe\">\n",
       "  <thead>\n",
       "    <tr style=\"text-align: right;\">\n",
       "      <th></th>\n",
       "      <th>High</th>\n",
       "      <th>Low</th>\n",
       "      <th>Open</th>\n",
       "      <th>Close</th>\n",
       "      <th>Volume</th>\n",
       "      <th>Adj Close</th>\n",
       "    </tr>\n",
       "    <tr>\n",
       "      <th>Date</th>\n",
       "      <th></th>\n",
       "      <th></th>\n",
       "      <th></th>\n",
       "      <th></th>\n",
       "      <th></th>\n",
       "      <th></th>\n",
       "    </tr>\n",
       "  </thead>\n",
       "  <tbody>\n",
       "    <tr>\n",
       "      <th>2018-01-08</th>\n",
       "      <td>303200</td>\n",
       "      <td>277200</td>\n",
       "      <td>278500</td>\n",
       "      <td>302500</td>\n",
       "      <td>4298770</td>\n",
       "      <td>302500</td>\n",
       "    </tr>\n",
       "    <tr>\n",
       "      <th>2018-02-01</th>\n",
       "      <td>318300</td>\n",
       "      <td>297300</td>\n",
       "      <td>314800</td>\n",
       "      <td>299800</td>\n",
       "      <td>1909895</td>\n",
       "      <td>299800</td>\n",
       "    </tr>\n",
       "    <tr>\n",
       "      <th>2018-01-19</th>\n",
       "      <td>320800</td>\n",
       "      <td>284400</td>\n",
       "      <td>320000</td>\n",
       "      <td>287800</td>\n",
       "      <td>3755567</td>\n",
       "      <td>287800</td>\n",
       "    </tr>\n",
       "  </tbody>\n",
       "</table>\n",
       "</div>"
      ],
      "text/plain": [
       "              High     Low    Open   Close   Volume  Adj Close\n",
       "Date                                                          \n",
       "2018-01-08  303200  277200  278500  302500  4298770     302500\n",
       "2018-02-01  318300  297300  314800  299800  1909895     299800\n",
       "2018-01-19  320800  284400  320000  287800  3755567     287800"
      ]
     },
     "execution_count": 51,
     "metadata": {},
     "output_type": "execute_result"
    }
   ],
   "source": [
    "cel.sample(n=3,replace=True)"
   ]
  },
  {
   "cell_type": "code",
   "execution_count": 54,
   "metadata": {},
   "outputs": [
    {
     "data": {
      "text/plain": [
       "(63, 6)"
      ]
     },
     "execution_count": 54,
     "metadata": {},
     "output_type": "execute_result"
    }
   ],
   "source": [
    "cel.shape"
   ]
  },
  {
   "cell_type": "code",
   "execution_count": 56,
   "metadata": {},
   "outputs": [
    {
     "data": {
      "text/plain": [
       "6"
      ]
     },
     "execution_count": 56,
     "metadata": {},
     "output_type": "execute_result"
    }
   ],
   "source": [
    "int(cel.shape[0]/10)"
   ]
  },
  {
   "cell_type": "code",
   "execution_count": 57,
   "metadata": {},
   "outputs": [
    {
     "data": {
      "text/html": [
       "<div>\n",
       "<style scoped>\n",
       "    .dataframe tbody tr th:only-of-type {\n",
       "        vertical-align: middle;\n",
       "    }\n",
       "\n",
       "    .dataframe tbody tr th {\n",
       "        vertical-align: top;\n",
       "    }\n",
       "\n",
       "    .dataframe thead th {\n",
       "        text-align: right;\n",
       "    }\n",
       "</style>\n",
       "<table border=\"1\" class=\"dataframe\">\n",
       "  <thead>\n",
       "    <tr style=\"text-align: right;\">\n",
       "      <th></th>\n",
       "      <th>High</th>\n",
       "      <th>Low</th>\n",
       "      <th>Open</th>\n",
       "      <th>Close</th>\n",
       "      <th>Volume</th>\n",
       "      <th>Adj Close</th>\n",
       "    </tr>\n",
       "    <tr>\n",
       "      <th>Date</th>\n",
       "      <th></th>\n",
       "      <th></th>\n",
       "      <th></th>\n",
       "      <th></th>\n",
       "      <th></th>\n",
       "      <th></th>\n",
       "    </tr>\n",
       "  </thead>\n",
       "  <tbody>\n",
       "    <tr>\n",
       "      <th>2018-01-09</th>\n",
       "      <td>320000</td>\n",
       "      <td>291200</td>\n",
       "      <td>304000</td>\n",
       "      <td>292500</td>\n",
       "      <td>5108684</td>\n",
       "      <td>292500</td>\n",
       "    </tr>\n",
       "    <tr>\n",
       "      <th>2018-01-10</th>\n",
       "      <td>315000</td>\n",
       "      <td>285000</td>\n",
       "      <td>303300</td>\n",
       "      <td>296000</td>\n",
       "      <td>3487231</td>\n",
       "      <td>296000</td>\n",
       "    </tr>\n",
       "    <tr>\n",
       "      <th>2018-02-06</th>\n",
       "      <td>291200</td>\n",
       "      <td>272200</td>\n",
       "      <td>276200</td>\n",
       "      <td>284200</td>\n",
       "      <td>2596342</td>\n",
       "      <td>284200</td>\n",
       "    </tr>\n",
       "    <tr>\n",
       "      <th>2018-01-25</th>\n",
       "      <td>295000</td>\n",
       "      <td>282300</td>\n",
       "      <td>291300</td>\n",
       "      <td>289700</td>\n",
       "      <td>1393842</td>\n",
       "      <td>289700</td>\n",
       "    </tr>\n",
       "    <tr>\n",
       "      <th>2018-03-30</th>\n",
       "      <td>321500</td>\n",
       "      <td>309000</td>\n",
       "      <td>319500</td>\n",
       "      <td>309500</td>\n",
       "      <td>1206106</td>\n",
       "      <td>309500</td>\n",
       "    </tr>\n",
       "    <tr>\n",
       "      <th>2018-03-06</th>\n",
       "      <td>381500</td>\n",
       "      <td>358500</td>\n",
       "      <td>376000</td>\n",
       "      <td>370000</td>\n",
       "      <td>2019719</td>\n",
       "      <td>370000</td>\n",
       "    </tr>\n",
       "  </tbody>\n",
       "</table>\n",
       "</div>"
      ],
      "text/plain": [
       "              High     Low    Open   Close   Volume  Adj Close\n",
       "Date                                                          \n",
       "2018-01-09  320000  291200  304000  292500  5108684     292500\n",
       "2018-01-10  315000  285000  303300  296000  3487231     296000\n",
       "2018-02-06  291200  272200  276200  284200  2596342     284200\n",
       "2018-01-25  295000  282300  291300  289700  1393842     289700\n",
       "2018-03-30  321500  309000  319500  309500  1206106     309500\n",
       "2018-03-06  381500  358500  376000  370000  2019719     370000"
      ]
     },
     "execution_count": 57,
     "metadata": {},
     "output_type": "execute_result"
    }
   ],
   "source": [
    "cel.sample(frac=0.1)"
   ]
  },
  {
   "cell_type": "code",
   "execution_count": 59,
   "metadata": {},
   "outputs": [
    {
     "data": {
      "text/html": [
       "<div>\n",
       "<style scoped>\n",
       "    .dataframe tbody tr th:only-of-type {\n",
       "        vertical-align: middle;\n",
       "    }\n",
       "\n",
       "    .dataframe tbody tr th {\n",
       "        vertical-align: top;\n",
       "    }\n",
       "\n",
       "    .dataframe thead th {\n",
       "        text-align: right;\n",
       "    }\n",
       "</style>\n",
       "<table border=\"1\" class=\"dataframe\">\n",
       "  <thead>\n",
       "    <tr style=\"text-align: right;\">\n",
       "      <th></th>\n",
       "      <th>High</th>\n",
       "      <th>Low</th>\n",
       "      <th>Open</th>\n",
       "      <th>Close</th>\n",
       "      <th>Volume</th>\n",
       "      <th>Adj Close</th>\n",
       "    </tr>\n",
       "    <tr>\n",
       "      <th>Date</th>\n",
       "      <th></th>\n",
       "      <th></th>\n",
       "      <th></th>\n",
       "      <th></th>\n",
       "      <th></th>\n",
       "      <th></th>\n",
       "    </tr>\n",
       "  </thead>\n",
       "  <tbody>\n",
       "    <tr>\n",
       "      <th>2018-03-20</th>\n",
       "      <td>325000</td>\n",
       "      <td>312500</td>\n",
       "      <td>316000</td>\n",
       "      <td>322500</td>\n",
       "      <td>1160725</td>\n",
       "      <td>322500</td>\n",
       "    </tr>\n",
       "    <tr>\n",
       "      <th>2018-04-02</th>\n",
       "      <td>316000</td>\n",
       "      <td>304000</td>\n",
       "      <td>310500</td>\n",
       "      <td>304000</td>\n",
       "      <td>702993</td>\n",
       "      <td>304000</td>\n",
       "    </tr>\n",
       "    <tr>\n",
       "      <th>2018-01-30</th>\n",
       "      <td>339000</td>\n",
       "      <td>325200</td>\n",
       "      <td>333900</td>\n",
       "      <td>326600</td>\n",
       "      <td>1789761</td>\n",
       "      <td>326600</td>\n",
       "    </tr>\n",
       "    <tr>\n",
       "      <th>2018-03-06</th>\n",
       "      <td>381500</td>\n",
       "      <td>358500</td>\n",
       "      <td>376000</td>\n",
       "      <td>370000</td>\n",
       "      <td>2019719</td>\n",
       "      <td>370000</td>\n",
       "    </tr>\n",
       "    <tr>\n",
       "      <th>2018-02-23</th>\n",
       "      <td>322500</td>\n",
       "      <td>307000</td>\n",
       "      <td>309000</td>\n",
       "      <td>318000</td>\n",
       "      <td>976514</td>\n",
       "      <td>318000</td>\n",
       "    </tr>\n",
       "    <tr>\n",
       "      <th>2018-02-02</th>\n",
       "      <td>306400</td>\n",
       "      <td>290000</td>\n",
       "      <td>300300</td>\n",
       "      <td>301400</td>\n",
       "      <td>1647660</td>\n",
       "      <td>301400</td>\n",
       "    </tr>\n",
       "  </tbody>\n",
       "</table>\n",
       "</div>"
      ],
      "text/plain": [
       "              High     Low    Open   Close   Volume  Adj Close\n",
       "Date                                                          \n",
       "2018-03-20  325000  312500  316000  322500  1160725     322500\n",
       "2018-04-02  316000  304000  310500  304000   702993     304000\n",
       "2018-01-30  339000  325200  333900  326600  1789761     326600\n",
       "2018-03-06  381500  358500  376000  370000  2019719     370000\n",
       "2018-02-23  322500  307000  309000  318000   976514     318000\n",
       "2018-02-02  306400  290000  300300  301400  1647660     301400"
      ]
     },
     "execution_count": 59,
     "metadata": {},
     "output_type": "execute_result"
    }
   ],
   "source": [
    "cel.sample(frac=0.1,replace=True)"
   ]
  },
  {
   "cell_type": "code",
   "execution_count": null,
   "metadata": {},
   "outputs": [],
   "source": []
  },
  {
   "cell_type": "code",
   "execution_count": 61,
   "metadata": {},
   "outputs": [
    {
     "data": {
      "text/html": [
       "<div>\n",
       "<style scoped>\n",
       "    .dataframe tbody tr th:only-of-type {\n",
       "        vertical-align: middle;\n",
       "    }\n",
       "\n",
       "    .dataframe tbody tr th {\n",
       "        vertical-align: top;\n",
       "    }\n",
       "\n",
       "    .dataframe thead th {\n",
       "        text-align: right;\n",
       "    }\n",
       "</style>\n",
       "<table border=\"1\" class=\"dataframe\">\n",
       "  <thead>\n",
       "    <tr style=\"text-align: right;\">\n",
       "      <th></th>\n",
       "      <th>High</th>\n",
       "      <th>Low</th>\n",
       "      <th>Open</th>\n",
       "      <th>Close</th>\n",
       "      <th>Volume</th>\n",
       "      <th>Adj Close</th>\n",
       "    </tr>\n",
       "    <tr>\n",
       "      <th>Date</th>\n",
       "      <th></th>\n",
       "      <th></th>\n",
       "      <th></th>\n",
       "      <th></th>\n",
       "      <th></th>\n",
       "      <th></th>\n",
       "    </tr>\n",
       "  </thead>\n",
       "  <tbody>\n",
       "    <tr>\n",
       "      <th>2018-03-05</th>\n",
       "      <td>392000</td>\n",
       "      <td>357000</td>\n",
       "      <td>386500</td>\n",
       "      <td>373500</td>\n",
       "      <td>3136351</td>\n",
       "      <td>373500</td>\n",
       "    </tr>\n",
       "    <tr>\n",
       "      <th>2018-02-19</th>\n",
       "      <td>326000</td>\n",
       "      <td>311500</td>\n",
       "      <td>326000</td>\n",
       "      <td>316500</td>\n",
       "      <td>1345272</td>\n",
       "      <td>316500</td>\n",
       "    </tr>\n",
       "    <tr>\n",
       "      <th>2018-01-18</th>\n",
       "      <td>323400</td>\n",
       "      <td>305600</td>\n",
       "      <td>308900</td>\n",
       "      <td>319300</td>\n",
       "      <td>1954123</td>\n",
       "      <td>319300</td>\n",
       "    </tr>\n",
       "    <tr>\n",
       "      <th>2018-03-22</th>\n",
       "      <td>319000</td>\n",
       "      <td>305000</td>\n",
       "      <td>312000</td>\n",
       "      <td>310500</td>\n",
       "      <td>1177144</td>\n",
       "      <td>310500</td>\n",
       "    </tr>\n",
       "    <tr>\n",
       "      <th>2018-03-23</th>\n",
       "      <td>312500</td>\n",
       "      <td>298000</td>\n",
       "      <td>302500</td>\n",
       "      <td>300000</td>\n",
       "      <td>1483144</td>\n",
       "      <td>300000</td>\n",
       "    </tr>\n",
       "    <tr>\n",
       "      <th>2018-02-06</th>\n",
       "      <td>291200</td>\n",
       "      <td>272200</td>\n",
       "      <td>276200</td>\n",
       "      <td>284200</td>\n",
       "      <td>2596342</td>\n",
       "      <td>284200</td>\n",
       "    </tr>\n",
       "  </tbody>\n",
       "</table>\n",
       "</div>"
      ],
      "text/plain": [
       "              High     Low    Open   Close   Volume  Adj Close\n",
       "Date                                                          \n",
       "2018-03-05  392000  357000  386500  373500  3136351     373500\n",
       "2018-02-19  326000  311500  326000  316500  1345272     316500\n",
       "2018-01-18  323400  305600  308900  319300  1954123     319300\n",
       "2018-03-22  319000  305000  312000  310500  1177144     310500\n",
       "2018-03-23  312500  298000  302500  300000  1483144     300000\n",
       "2018-02-06  291200  272200  276200  284200  2596342     284200"
      ]
     },
     "execution_count": 61,
     "metadata": {},
     "output_type": "execute_result"
    }
   ],
   "source": [
    "cel.sample(frac=0.1,random_state=100 )"
   ]
  },
  {
   "cell_type": "code",
   "execution_count": 141,
   "metadata": {},
   "outputs": [],
   "source": [
    "cel_sam = cel.sample(frac=0.1,random_state=100 )"
   ]
  },
  {
   "cell_type": "code",
   "execution_count": 142,
   "metadata": {},
   "outputs": [
    {
     "data": {
      "text/plain": [
       "pandas.core.frame.DataFrame"
      ]
     },
     "execution_count": 142,
     "metadata": {},
     "output_type": "execute_result"
    }
   ],
   "source": [
    "type(cel_sam)"
   ]
  },
  {
   "cell_type": "code",
   "execution_count": 143,
   "metadata": {},
   "outputs": [
    {
     "data": {
      "text/html": [
       "<div>\n",
       "<style scoped>\n",
       "    .dataframe tbody tr th:only-of-type {\n",
       "        vertical-align: middle;\n",
       "    }\n",
       "\n",
       "    .dataframe tbody tr th {\n",
       "        vertical-align: top;\n",
       "    }\n",
       "\n",
       "    .dataframe thead th {\n",
       "        text-align: right;\n",
       "    }\n",
       "</style>\n",
       "<table border=\"1\" class=\"dataframe\">\n",
       "  <thead>\n",
       "    <tr style=\"text-align: right;\">\n",
       "      <th></th>\n",
       "      <th>High</th>\n",
       "      <th>Low</th>\n",
       "      <th>Open</th>\n",
       "      <th>Close</th>\n",
       "      <th>Volume</th>\n",
       "      <th>Adj Close</th>\n",
       "    </tr>\n",
       "  </thead>\n",
       "  <tbody>\n",
       "    <tr>\n",
       "      <th>count</th>\n",
       "      <td>16.000000</td>\n",
       "      <td>16.000000</td>\n",
       "      <td>16.000000</td>\n",
       "      <td>16.000000</td>\n",
       "      <td>1.600000e+01</td>\n",
       "      <td>16.000000</td>\n",
       "    </tr>\n",
       "    <tr>\n",
       "      <th>mean</th>\n",
       "      <td>300175.000000</td>\n",
       "      <td>283606.250000</td>\n",
       "      <td>292937.500000</td>\n",
       "      <td>289981.250000</td>\n",
       "      <td>1.651064e+06</td>\n",
       "      <td>289981.250000</td>\n",
       "    </tr>\n",
       "    <tr>\n",
       "      <th>std</th>\n",
       "      <td>28413.154231</td>\n",
       "      <td>25076.934123</td>\n",
       "      <td>30021.989164</td>\n",
       "      <td>24477.042816</td>\n",
       "      <td>1.100143e+06</td>\n",
       "      <td>24477.042816</td>\n",
       "    </tr>\n",
       "    <tr>\n",
       "      <th>min</th>\n",
       "      <td>247200.000000</td>\n",
       "      <td>227100.000000</td>\n",
       "      <td>228900.000000</td>\n",
       "      <td>246700.000000</td>\n",
       "      <td>3.975290e+05</td>\n",
       "      <td>246700.000000</td>\n",
       "    </tr>\n",
       "    <tr>\n",
       "      <th>25%</th>\n",
       "      <td>280625.000000</td>\n",
       "      <td>268875.000000</td>\n",
       "      <td>279125.000000</td>\n",
       "      <td>269625.000000</td>\n",
       "      <td>7.359150e+05</td>\n",
       "      <td>269625.000000</td>\n",
       "    </tr>\n",
       "    <tr>\n",
       "      <th>50%</th>\n",
       "      <td>299300.000000</td>\n",
       "      <td>286050.000000</td>\n",
       "      <td>292900.000000</td>\n",
       "      <td>297250.000000</td>\n",
       "      <td>1.375236e+06</td>\n",
       "      <td>297250.000000</td>\n",
       "    </tr>\n",
       "    <tr>\n",
       "      <th>75%</th>\n",
       "      <td>312000.000000</td>\n",
       "      <td>296500.000000</td>\n",
       "      <td>299500.000000</td>\n",
       "      <td>308375.000000</td>\n",
       "      <td>2.285670e+06</td>\n",
       "      <td>308375.000000</td>\n",
       "    </tr>\n",
       "    <tr>\n",
       "      <th>max</th>\n",
       "      <td>355000.000000</td>\n",
       "      <td>323000.000000</td>\n",
       "      <td>347400.000000</td>\n",
       "      <td>326000.000000</td>\n",
       "      <td>3.558669e+06</td>\n",
       "      <td>326000.000000</td>\n",
       "    </tr>\n",
       "  </tbody>\n",
       "</table>\n",
       "</div>"
      ],
      "text/plain": [
       "                High            Low           Open          Close  \\\n",
       "count      16.000000      16.000000      16.000000      16.000000   \n",
       "mean   300175.000000  283606.250000  292937.500000  289981.250000   \n",
       "std     28413.154231   25076.934123   30021.989164   24477.042816   \n",
       "min    247200.000000  227100.000000  228900.000000  246700.000000   \n",
       "25%    280625.000000  268875.000000  279125.000000  269625.000000   \n",
       "50%    299300.000000  286050.000000  292900.000000  297250.000000   \n",
       "75%    312000.000000  296500.000000  299500.000000  308375.000000   \n",
       "max    355000.000000  323000.000000  347400.000000  326000.000000   \n",
       "\n",
       "             Volume      Adj Close  \n",
       "count  1.600000e+01      16.000000  \n",
       "mean   1.651064e+06  289981.250000  \n",
       "std    1.100143e+06   24477.042816  \n",
       "min    3.975290e+05  246700.000000  \n",
       "25%    7.359150e+05  269625.000000  \n",
       "50%    1.375236e+06  297250.000000  \n",
       "75%    2.285670e+06  308375.000000  \n",
       "max    3.558669e+06  326000.000000  "
      ]
     },
     "execution_count": 143,
     "metadata": {},
     "output_type": "execute_result"
    }
   ],
   "source": [
    "cel_sam.describe()"
   ]
  },
  {
   "cell_type": "code",
   "execution_count": 133,
   "metadata": {},
   "outputs": [
    {
     "data": {
      "text/plain": [
       "High          300175.000\n",
       "Low           283606.250\n",
       "Open          292937.500\n",
       "Close         289981.250\n",
       "Volume       1651063.875\n",
       "Adj Close     289981.250\n",
       "dtype: float64"
      ]
     },
     "execution_count": 133,
     "metadata": {},
     "output_type": "execute_result"
    }
   ],
   "source": [
    "cel_sam.mean()"
   ]
  },
  {
   "cell_type": "code",
   "execution_count": 134,
   "metadata": {},
   "outputs": [
    {
     "data": {
      "text/plain": [
       "High         2.841315e+04\n",
       "Low          2.507693e+04\n",
       "Open         3.002199e+04\n",
       "Close        2.447704e+04\n",
       "Volume       1.100143e+06\n",
       "Adj Close    2.447704e+04\n",
       "dtype: float64"
      ]
     },
     "execution_count": 134,
     "metadata": {},
     "output_type": "execute_result"
    }
   ],
   "source": [
    "cel_sam.std()"
   ]
  },
  {
   "cell_type": "code",
   "execution_count": 135,
   "metadata": {},
   "outputs": [
    {
     "data": {
      "text/plain": [
       "High         8.073073e+08\n",
       "Low          6.288526e+08\n",
       "Open         9.013198e+08\n",
       "Close        5.991256e+08\n",
       "Volume       1.210314e+12\n",
       "Adj Close    5.991256e+08\n",
       "dtype: float64"
      ]
     },
     "execution_count": 135,
     "metadata": {},
     "output_type": "execute_result"
    }
   ],
   "source": [
    "cel_sam.var()"
   ]
  },
  {
   "cell_type": "code",
   "execution_count": null,
   "metadata": {},
   "outputs": [],
   "source": []
  },
  {
   "cell_type": "code",
   "execution_count": null,
   "metadata": {},
   "outputs": [],
   "source": []
  },
  {
   "cell_type": "markdown",
   "metadata": {},
   "source": [
    "## 예제 7-5   리샘플링 데이터 처리하기"
   ]
  },
  {
   "cell_type": "code",
   "execution_count": 107,
   "metadata": {},
   "outputs": [],
   "source": [
    "from pandas_datareader import data"
   ]
  },
  {
   "cell_type": "code",
   "execution_count": 106,
   "metadata": {},
   "outputs": [],
   "source": [
    "cel_re = data.DataReader(\"068270.KS\", \"yahoo\", '2018-01-02', '2018-08-31')"
   ]
  },
  {
   "cell_type": "code",
   "execution_count": 108,
   "metadata": {},
   "outputs": [
    {
     "data": {
      "text/html": [
       "<div>\n",
       "<style scoped>\n",
       "    .dataframe tbody tr th:only-of-type {\n",
       "        vertical-align: middle;\n",
       "    }\n",
       "\n",
       "    .dataframe tbody tr th {\n",
       "        vertical-align: top;\n",
       "    }\n",
       "\n",
       "    .dataframe thead th {\n",
       "        text-align: right;\n",
       "    }\n",
       "</style>\n",
       "<table border=\"1\" class=\"dataframe\">\n",
       "  <thead>\n",
       "    <tr style=\"text-align: right;\">\n",
       "      <th></th>\n",
       "      <th>High</th>\n",
       "      <th>Low</th>\n",
       "      <th>Open</th>\n",
       "      <th>Close</th>\n",
       "      <th>Volume</th>\n",
       "      <th>Adj Close</th>\n",
       "    </tr>\n",
       "    <tr>\n",
       "      <th>Date</th>\n",
       "      <th></th>\n",
       "      <th></th>\n",
       "      <th></th>\n",
       "      <th></th>\n",
       "      <th></th>\n",
       "      <th></th>\n",
       "    </tr>\n",
       "  </thead>\n",
       "  <tbody>\n",
       "    <tr>\n",
       "      <th>2018-01-02</th>\n",
       "      <td>227700</td>\n",
       "      <td>222200</td>\n",
       "      <td>223600</td>\n",
       "      <td>225900</td>\n",
       "      <td>1176443</td>\n",
       "      <td>225900</td>\n",
       "    </tr>\n",
       "    <tr>\n",
       "      <th>2018-01-03</th>\n",
       "      <td>247200</td>\n",
       "      <td>227100</td>\n",
       "      <td>228900</td>\n",
       "      <td>246700</td>\n",
       "      <td>2411162</td>\n",
       "      <td>246700</td>\n",
       "    </tr>\n",
       "    <tr>\n",
       "      <th>2018-01-04</th>\n",
       "      <td>261200</td>\n",
       "      <td>245300</td>\n",
       "      <td>249600</td>\n",
       "      <td>250000</td>\n",
       "      <td>3265527</td>\n",
       "      <td>250000</td>\n",
       "    </tr>\n",
       "    <tr>\n",
       "      <th>2018-01-05</th>\n",
       "      <td>267000</td>\n",
       "      <td>254000</td>\n",
       "      <td>254900</td>\n",
       "      <td>266900</td>\n",
       "      <td>1920918</td>\n",
       "      <td>266900</td>\n",
       "    </tr>\n",
       "    <tr>\n",
       "      <th>2018-01-08</th>\n",
       "      <td>303200</td>\n",
       "      <td>277200</td>\n",
       "      <td>278500</td>\n",
       "      <td>302500</td>\n",
       "      <td>4298770</td>\n",
       "      <td>302500</td>\n",
       "    </tr>\n",
       "  </tbody>\n",
       "</table>\n",
       "</div>"
      ],
      "text/plain": [
       "              High     Low    Open   Close   Volume  Adj Close\n",
       "Date                                                          \n",
       "2018-01-02  227700  222200  223600  225900  1176443     225900\n",
       "2018-01-03  247200  227100  228900  246700  2411162     246700\n",
       "2018-01-04  261200  245300  249600  250000  3265527     250000\n",
       "2018-01-05  267000  254000  254900  266900  1920918     266900\n",
       "2018-01-08  303200  277200  278500  302500  4298770     302500"
      ]
     },
     "execution_count": 108,
     "metadata": {},
     "output_type": "execute_result"
    }
   ],
   "source": [
    "cel_re.head()"
   ]
  },
  {
   "cell_type": "code",
   "execution_count": 109,
   "metadata": {},
   "outputs": [
    {
     "data": {
      "text/plain": [
       "DatetimeIndexResampler [freq=<BusinessYearEnd: month=12>, axis=0, closed=right, label=right, convention=start, base=0]"
      ]
     },
     "execution_count": 109,
     "metadata": {},
     "output_type": "execute_result"
    }
   ],
   "source": [
    "cel_re.resample('BA')"
   ]
  },
  {
   "cell_type": "code",
   "execution_count": 110,
   "metadata": {},
   "outputs": [],
   "source": [
    "a = cel_re.resample('BA')"
   ]
  },
  {
   "cell_type": "code",
   "execution_count": 111,
   "metadata": {},
   "outputs": [
    {
     "name": "stdout",
     "output_type": "stream",
     "text": [
      "Close,  High,  Low,  Open,  Volume,  agg,  \n",
      "aggregate,  apply,  asfreq,  ax,  backfill,  bfill,  \n",
      "count,  ffill,  fillna,  first,  get_group,  groups,  \n",
      "indices,  interpolate,  last,  max,  mean,  median,  \n",
      "min,  ndim,  nearest,  ngroups,  nunique,  obj,  \n",
      "ohlc,  pad,  plot,  prod,  sem,  size,  \n",
      "std,  sum,  transform,  var,  "
     ]
    }
   ],
   "source": [
    "count = 0\n",
    "for i in dir(a) :\n",
    "    if not i.startswith(\"_\") :\n",
    "        print(i, end=\",  \")\n",
    "        count += 1\n",
    "        if count % 6 == 0 :\n",
    "            print()"
   ]
  },
  {
   "cell_type": "code",
   "execution_count": 115,
   "metadata": {},
   "outputs": [
    {
     "data": {
      "text/plain": [
       "Date\n",
       "2018-01-02    227700\n",
       "2018-01-03    247200\n",
       "2018-01-04    261200\n",
       "2018-01-05    267000\n",
       "2018-01-08    303200\n",
       "Name: High, dtype: int64"
      ]
     },
     "execution_count": 115,
     "metadata": {},
     "output_type": "execute_result"
    }
   ],
   "source": [
    "a.High.head()"
   ]
  },
  {
   "cell_type": "code",
   "execution_count": null,
   "metadata": {},
   "outputs": [],
   "source": []
  },
  {
   "cell_type": "code",
   "execution_count": 119,
   "metadata": {},
   "outputs": [],
   "source": [
    "cel_2018 = cel_re.resample('BA')"
   ]
  },
  {
   "cell_type": "code",
   "execution_count": 121,
   "metadata": {},
   "outputs": [
    {
     "data": {
      "text/plain": [
       "2"
      ]
     },
     "execution_count": 121,
     "metadata": {},
     "output_type": "execute_result"
    }
   ],
   "source": [
    "cel_2018.ndim"
   ]
  },
  {
   "cell_type": "code",
   "execution_count": 122,
   "metadata": {},
   "outputs": [
    {
     "data": {
      "text/plain": [
       "1"
      ]
     },
     "execution_count": 122,
     "metadata": {},
     "output_type": "execute_result"
    }
   ],
   "source": [
    "cel_2018.ngroups"
   ]
  },
  {
   "cell_type": "code",
   "execution_count": 123,
   "metadata": {},
   "outputs": [
    {
     "data": {
      "text/plain": [
       "Date\n",
       "2018-12-31    160\n",
       "Freq: BA-DEC, dtype: int64"
      ]
     },
     "execution_count": 123,
     "metadata": {},
     "output_type": "execute_result"
    }
   ],
   "source": [
    "cel_2018.size()"
   ]
  },
  {
   "cell_type": "code",
   "execution_count": 124,
   "metadata": {},
   "outputs": [
    {
     "data": {
      "text/html": [
       "<div>\n",
       "<style scoped>\n",
       "    .dataframe tbody tr th:only-of-type {\n",
       "        vertical-align: middle;\n",
       "    }\n",
       "\n",
       "    .dataframe tbody tr th {\n",
       "        vertical-align: top;\n",
       "    }\n",
       "\n",
       "    .dataframe thead th {\n",
       "        text-align: right;\n",
       "    }\n",
       "</style>\n",
       "<table border=\"1\" class=\"dataframe\">\n",
       "  <thead>\n",
       "    <tr style=\"text-align: right;\">\n",
       "      <th></th>\n",
       "      <th>High</th>\n",
       "      <th>Low</th>\n",
       "      <th>Open</th>\n",
       "      <th>Close</th>\n",
       "      <th>Volume</th>\n",
       "      <th>Adj Close</th>\n",
       "    </tr>\n",
       "    <tr>\n",
       "      <th>Date</th>\n",
       "      <th></th>\n",
       "      <th></th>\n",
       "      <th></th>\n",
       "      <th></th>\n",
       "      <th></th>\n",
       "      <th></th>\n",
       "    </tr>\n",
       "  </thead>\n",
       "  <tbody>\n",
       "    <tr>\n",
       "      <th>2018-12-31</th>\n",
       "      <td>297050.62</td>\n",
       "      <td>282461.25</td>\n",
       "      <td>289472.5</td>\n",
       "      <td>289107.5</td>\n",
       "      <td>1463355.06</td>\n",
       "      <td>289107.5</td>\n",
       "    </tr>\n",
       "  </tbody>\n",
       "</table>\n",
       "</div>"
      ],
      "text/plain": [
       "                 High        Low      Open     Close      Volume  Adj Close\n",
       "Date                                                                       \n",
       "2018-12-31  297050.62  282461.25  289472.5  289107.5  1463355.06   289107.5"
      ]
     },
     "execution_count": 124,
     "metadata": {},
     "output_type": "execute_result"
    }
   ],
   "source": [
    "cel_2018.mean().round(2)"
   ]
  },
  {
   "cell_type": "code",
   "execution_count": 71,
   "metadata": {},
   "outputs": [
    {
     "data": {
      "text/html": [
       "<div>\n",
       "<style scoped>\n",
       "    .dataframe tbody tr th:only-of-type {\n",
       "        vertical-align: middle;\n",
       "    }\n",
       "\n",
       "    .dataframe tbody tr th {\n",
       "        vertical-align: top;\n",
       "    }\n",
       "\n",
       "    .dataframe thead th {\n",
       "        text-align: right;\n",
       "    }\n",
       "</style>\n",
       "<table border=\"1\" class=\"dataframe\">\n",
       "  <thead>\n",
       "    <tr style=\"text-align: right;\">\n",
       "      <th></th>\n",
       "      <th>High</th>\n",
       "      <th>Low</th>\n",
       "      <th>Open</th>\n",
       "      <th>Close</th>\n",
       "      <th>Volume</th>\n",
       "      <th>Adj Close</th>\n",
       "    </tr>\n",
       "    <tr>\n",
       "      <th>Date</th>\n",
       "      <th></th>\n",
       "      <th></th>\n",
       "      <th></th>\n",
       "      <th></th>\n",
       "      <th></th>\n",
       "      <th></th>\n",
       "    </tr>\n",
       "  </thead>\n",
       "  <tbody>\n",
       "    <tr>\n",
       "      <th>2018-12-31</th>\n",
       "      <td>29812.0</td>\n",
       "      <td>27821.0</td>\n",
       "      <td>30058.0</td>\n",
       "      <td>28458.0</td>\n",
       "      <td>1596663.0</td>\n",
       "      <td>28458.0</td>\n",
       "    </tr>\n",
       "  </tbody>\n",
       "</table>\n",
       "</div>"
      ],
      "text/plain": [
       "               High      Low     Open    Close     Volume  Adj Close\n",
       "Date                                                                \n",
       "2018-12-31  29812.0  27821.0  30058.0  28458.0  1596663.0    28458.0"
      ]
     },
     "execution_count": 71,
     "metadata": {},
     "output_type": "execute_result"
    }
   ],
   "source": [
    "cel_2018.std().round(2)"
   ]
  },
  {
   "cell_type": "code",
   "execution_count": 77,
   "metadata": {},
   "outputs": [
    {
     "data": {
      "text/html": [
       "<div>\n",
       "<style scoped>\n",
       "    .dataframe tbody tr th:only-of-type {\n",
       "        vertical-align: middle;\n",
       "    }\n",
       "\n",
       "    .dataframe tbody tr th {\n",
       "        vertical-align: top;\n",
       "    }\n",
       "\n",
       "    .dataframe thead th {\n",
       "        text-align: right;\n",
       "    }\n",
       "</style>\n",
       "<table border=\"1\" class=\"dataframe\">\n",
       "  <thead>\n",
       "    <tr style=\"text-align: right;\">\n",
       "      <th></th>\n",
       "      <th>High</th>\n",
       "      <th>Low</th>\n",
       "      <th>Open</th>\n",
       "      <th>Close</th>\n",
       "      <th>Volume</th>\n",
       "      <th>Adj Close</th>\n",
       "    </tr>\n",
       "    <tr>\n",
       "      <th>Date</th>\n",
       "      <th></th>\n",
       "      <th></th>\n",
       "      <th></th>\n",
       "      <th></th>\n",
       "      <th></th>\n",
       "      <th></th>\n",
       "    </tr>\n",
       "  </thead>\n",
       "  <tbody>\n",
       "    <tr>\n",
       "      <th>2018-12-31</th>\n",
       "      <td>888771387.6</td>\n",
       "      <td>774025622.1</td>\n",
       "      <td>903504828.5</td>\n",
       "      <td>809865688.7</td>\n",
       "      <td>2.549332e+12</td>\n",
       "      <td>809865688.7</td>\n",
       "    </tr>\n",
       "  </tbody>\n",
       "</table>\n",
       "</div>"
      ],
      "text/plain": [
       "                   High          Low         Open        Close        Volume  \\\n",
       "Date                                                                           \n",
       "2018-12-31  888771387.6  774025622.1  903504828.5  809865688.7  2.549332e+12   \n",
       "\n",
       "              Adj Close  \n",
       "Date                     \n",
       "2018-12-31  809865688.7  "
      ]
     },
     "execution_count": 77,
     "metadata": {},
     "output_type": "execute_result"
    }
   ],
   "source": [
    "cel_2018.var().round(1)"
   ]
  },
  {
   "cell_type": "code",
   "execution_count": 127,
   "metadata": {},
   "outputs": [],
   "source": [
    "year = cel_re.resample('A')"
   ]
  },
  {
   "cell_type": "code",
   "execution_count": 128,
   "metadata": {},
   "outputs": [
    {
     "data": {
      "text/html": [
       "<div>\n",
       "<style scoped>\n",
       "    .dataframe tbody tr th:only-of-type {\n",
       "        vertical-align: middle;\n",
       "    }\n",
       "\n",
       "    .dataframe tbody tr th {\n",
       "        vertical-align: top;\n",
       "    }\n",
       "\n",
       "    .dataframe thead th {\n",
       "        text-align: right;\n",
       "    }\n",
       "</style>\n",
       "<table border=\"1\" class=\"dataframe\">\n",
       "  <thead>\n",
       "    <tr style=\"text-align: right;\">\n",
       "      <th></th>\n",
       "      <th>High</th>\n",
       "      <th>Low</th>\n",
       "      <th>Open</th>\n",
       "      <th>Close</th>\n",
       "      <th>Volume</th>\n",
       "      <th>Adj Close</th>\n",
       "    </tr>\n",
       "    <tr>\n",
       "      <th>Date</th>\n",
       "      <th></th>\n",
       "      <th></th>\n",
       "      <th></th>\n",
       "      <th></th>\n",
       "      <th></th>\n",
       "      <th></th>\n",
       "    </tr>\n",
       "  </thead>\n",
       "  <tbody>\n",
       "    <tr>\n",
       "      <th>2018-12-31</th>\n",
       "      <td>297050.62</td>\n",
       "      <td>282461.25</td>\n",
       "      <td>289472.5</td>\n",
       "      <td>289107.5</td>\n",
       "      <td>1463355.06</td>\n",
       "      <td>289107.5</td>\n",
       "    </tr>\n",
       "  </tbody>\n",
       "</table>\n",
       "</div>"
      ],
      "text/plain": [
       "                 High        Low      Open     Close      Volume  Adj Close\n",
       "Date                                                                       \n",
       "2018-12-31  297050.62  282461.25  289472.5  289107.5  1463355.06   289107.5"
      ]
     },
     "execution_count": 128,
     "metadata": {},
     "output_type": "execute_result"
    }
   ],
   "source": [
    "year.mean().round(2)"
   ]
  },
  {
   "cell_type": "code",
   "execution_count": null,
   "metadata": {},
   "outputs": [],
   "source": []
  },
  {
   "cell_type": "code",
   "execution_count": 144,
   "metadata": {},
   "outputs": [],
   "source": [
    "cel_bq = cel.resample('BQ')"
   ]
  },
  {
   "cell_type": "code",
   "execution_count": 145,
   "metadata": {},
   "outputs": [
    {
     "data": {
      "text/html": [
       "<div>\n",
       "<style scoped>\n",
       "    .dataframe tbody tr th:only-of-type {\n",
       "        vertical-align: middle;\n",
       "    }\n",
       "\n",
       "    .dataframe tbody tr th {\n",
       "        vertical-align: top;\n",
       "    }\n",
       "\n",
       "    .dataframe thead th {\n",
       "        text-align: right;\n",
       "    }\n",
       "</style>\n",
       "<table border=\"1\" class=\"dataframe\">\n",
       "  <thead>\n",
       "    <tr style=\"text-align: right;\">\n",
       "      <th></th>\n",
       "      <th>High</th>\n",
       "      <th>Low</th>\n",
       "      <th>Open</th>\n",
       "      <th>Close</th>\n",
       "      <th>Volume</th>\n",
       "      <th>Adj Close</th>\n",
       "    </tr>\n",
       "    <tr>\n",
       "      <th>Date</th>\n",
       "      <th></th>\n",
       "      <th></th>\n",
       "      <th></th>\n",
       "      <th></th>\n",
       "      <th></th>\n",
       "      <th></th>\n",
       "    </tr>\n",
       "  </thead>\n",
       "  <tbody>\n",
       "    <tr>\n",
       "      <th>2018-03-30</th>\n",
       "      <td>318985.25</td>\n",
       "      <td>298955.74</td>\n",
       "      <td>308124.59</td>\n",
       "      <td>308904.92</td>\n",
       "      <td>2390017.69</td>\n",
       "      <td>308904.92</td>\n",
       "    </tr>\n",
       "    <tr>\n",
       "      <th>2018-06-29</th>\n",
       "      <td>284308.33</td>\n",
       "      <td>272675.00</td>\n",
       "      <td>278358.33</td>\n",
       "      <td>277350.00</td>\n",
       "      <td>1019217.68</td>\n",
       "      <td>277350.00</td>\n",
       "    </tr>\n",
       "    <tr>\n",
       "      <th>2018-09-28</th>\n",
       "      <td>282346.15</td>\n",
       "      <td>271717.95</td>\n",
       "      <td>277397.44</td>\n",
       "      <td>276217.95</td>\n",
       "      <td>697240.87</td>\n",
       "      <td>276217.95</td>\n",
       "    </tr>\n",
       "  </tbody>\n",
       "</table>\n",
       "</div>"
      ],
      "text/plain": [
       "                 High        Low       Open      Close      Volume  Adj Close\n",
       "Date                                                                         \n",
       "2018-03-30  318985.25  298955.74  308124.59  308904.92  2390017.69  308904.92\n",
       "2018-06-29  284308.33  272675.00  278358.33  277350.00  1019217.68  277350.00\n",
       "2018-09-28  282346.15  271717.95  277397.44  276217.95   697240.87  276217.95"
      ]
     },
     "execution_count": 145,
     "metadata": {},
     "output_type": "execute_result"
    }
   ],
   "source": [
    "cel_bq.mean().round(2)"
   ]
  },
  {
   "cell_type": "code",
   "execution_count": null,
   "metadata": {},
   "outputs": [],
   "source": []
  },
  {
   "cell_type": "code",
   "execution_count": 146,
   "metadata": {},
   "outputs": [],
   "source": [
    "cel_q = cel.resample('Q')"
   ]
  },
  {
   "cell_type": "code",
   "execution_count": 147,
   "metadata": {},
   "outputs": [
    {
     "data": {
      "text/html": [
       "<div>\n",
       "<style scoped>\n",
       "    .dataframe tbody tr th:only-of-type {\n",
       "        vertical-align: middle;\n",
       "    }\n",
       "\n",
       "    .dataframe tbody tr th {\n",
       "        vertical-align: top;\n",
       "    }\n",
       "\n",
       "    .dataframe thead th {\n",
       "        text-align: right;\n",
       "    }\n",
       "</style>\n",
       "<table border=\"1\" class=\"dataframe\">\n",
       "  <thead>\n",
       "    <tr style=\"text-align: right;\">\n",
       "      <th></th>\n",
       "      <th>High</th>\n",
       "      <th>Low</th>\n",
       "      <th>Open</th>\n",
       "      <th>Close</th>\n",
       "      <th>Volume</th>\n",
       "      <th>Adj Close</th>\n",
       "    </tr>\n",
       "    <tr>\n",
       "      <th>Date</th>\n",
       "      <th></th>\n",
       "      <th></th>\n",
       "      <th></th>\n",
       "      <th></th>\n",
       "      <th></th>\n",
       "      <th></th>\n",
       "    </tr>\n",
       "  </thead>\n",
       "  <tbody>\n",
       "    <tr>\n",
       "      <th>2018-03-31</th>\n",
       "      <td>318985.25</td>\n",
       "      <td>298955.74</td>\n",
       "      <td>308124.59</td>\n",
       "      <td>308904.92</td>\n",
       "      <td>2390017.69</td>\n",
       "      <td>308904.92</td>\n",
       "    </tr>\n",
       "    <tr>\n",
       "      <th>2018-06-30</th>\n",
       "      <td>284308.33</td>\n",
       "      <td>272675.00</td>\n",
       "      <td>278358.33</td>\n",
       "      <td>277350.00</td>\n",
       "      <td>1019217.68</td>\n",
       "      <td>277350.00</td>\n",
       "    </tr>\n",
       "    <tr>\n",
       "      <th>2018-09-30</th>\n",
       "      <td>282346.15</td>\n",
       "      <td>271717.95</td>\n",
       "      <td>277397.44</td>\n",
       "      <td>276217.95</td>\n",
       "      <td>697240.87</td>\n",
       "      <td>276217.95</td>\n",
       "    </tr>\n",
       "  </tbody>\n",
       "</table>\n",
       "</div>"
      ],
      "text/plain": [
       "                 High        Low       Open      Close      Volume  Adj Close\n",
       "Date                                                                         \n",
       "2018-03-31  318985.25  298955.74  308124.59  308904.92  2390017.69  308904.92\n",
       "2018-06-30  284308.33  272675.00  278358.33  277350.00  1019217.68  277350.00\n",
       "2018-09-30  282346.15  271717.95  277397.44  276217.95   697240.87  276217.95"
      ]
     },
     "execution_count": 147,
     "metadata": {},
     "output_type": "execute_result"
    }
   ],
   "source": [
    "cel_q.mean().round(2)"
   ]
  },
  {
   "cell_type": "code",
   "execution_count": null,
   "metadata": {},
   "outputs": [],
   "source": []
  },
  {
   "cell_type": "code",
   "execution_count": 148,
   "metadata": {},
   "outputs": [],
   "source": [
    "cel_bm = cel.resample('BM')"
   ]
  },
  {
   "cell_type": "code",
   "execution_count": 149,
   "metadata": {},
   "outputs": [
    {
     "data": {
      "text/html": [
       "<div>\n",
       "<style scoped>\n",
       "    .dataframe tbody tr th:only-of-type {\n",
       "        vertical-align: middle;\n",
       "    }\n",
       "\n",
       "    .dataframe tbody tr th {\n",
       "        vertical-align: top;\n",
       "    }\n",
       "\n",
       "    .dataframe thead th {\n",
       "        text-align: right;\n",
       "    }\n",
       "</style>\n",
       "<table border=\"1\" class=\"dataframe\">\n",
       "  <thead>\n",
       "    <tr style=\"text-align: right;\">\n",
       "      <th></th>\n",
       "      <th>High</th>\n",
       "      <th>Low</th>\n",
       "      <th>Open</th>\n",
       "      <th>Close</th>\n",
       "      <th>Volume</th>\n",
       "      <th>Adj Close</th>\n",
       "    </tr>\n",
       "    <tr>\n",
       "      <th>Date</th>\n",
       "      <th></th>\n",
       "      <th></th>\n",
       "      <th></th>\n",
       "      <th></th>\n",
       "      <th></th>\n",
       "      <th></th>\n",
       "    </tr>\n",
       "  </thead>\n",
       "  <tbody>\n",
       "    <tr>\n",
       "      <th>2018-01-31</th>\n",
       "      <td>309900.00</td>\n",
       "      <td>287286.36</td>\n",
       "      <td>296740.91</td>\n",
       "      <td>299109.09</td>\n",
       "      <td>2638188.64</td>\n",
       "      <td>299109.09</td>\n",
       "    </tr>\n",
       "    <tr>\n",
       "      <th>2018-02-28</th>\n",
       "      <td>313683.33</td>\n",
       "      <td>294361.11</td>\n",
       "      <td>302322.22</td>\n",
       "      <td>304433.33</td>\n",
       "      <td>2045820.39</td>\n",
       "      <td>304433.33</td>\n",
       "    </tr>\n",
       "    <tr>\n",
       "      <th>2018-03-30</th>\n",
       "      <td>333047.62</td>\n",
       "      <td>315119.05</td>\n",
       "      <td>325023.81</td>\n",
       "      <td>323000.00</td>\n",
       "      <td>2425055.33</td>\n",
       "      <td>323000.00</td>\n",
       "    </tr>\n",
       "    <tr>\n",
       "      <th>2018-04-30</th>\n",
       "      <td>291357.14</td>\n",
       "      <td>278452.38</td>\n",
       "      <td>285571.43</td>\n",
       "      <td>282833.33</td>\n",
       "      <td>1182494.76</td>\n",
       "      <td>282833.33</td>\n",
       "    </tr>\n",
       "    <tr>\n",
       "      <th>2018-05-31</th>\n",
       "      <td>270350.00</td>\n",
       "      <td>258475.00</td>\n",
       "      <td>264250.00</td>\n",
       "      <td>262875.00</td>\n",
       "      <td>1050451.90</td>\n",
       "      <td>262875.00</td>\n",
       "    </tr>\n",
       "    <tr>\n",
       "      <th>2018-06-29</th>\n",
       "      <td>291210.53</td>\n",
       "      <td>281236.84</td>\n",
       "      <td>285236.84</td>\n",
       "      <td>286526.32</td>\n",
       "      <td>805875.42</td>\n",
       "      <td>286526.32</td>\n",
       "    </tr>\n",
       "    <tr>\n",
       "      <th>2018-07-31</th>\n",
       "      <td>287045.45</td>\n",
       "      <td>275613.64</td>\n",
       "      <td>282250.00</td>\n",
       "      <td>280181.82</td>\n",
       "      <td>739477.95</td>\n",
       "      <td>280181.82</td>\n",
       "    </tr>\n",
       "    <tr>\n",
       "      <th>2018-08-31</th>\n",
       "      <td>276264.71</td>\n",
       "      <td>266676.47</td>\n",
       "      <td>271117.65</td>\n",
       "      <td>271088.24</td>\n",
       "      <td>642581.12</td>\n",
       "      <td>271088.24</td>\n",
       "    </tr>\n",
       "  </tbody>\n",
       "</table>\n",
       "</div>"
      ],
      "text/plain": [
       "                 High        Low       Open      Close      Volume  Adj Close\n",
       "Date                                                                         \n",
       "2018-01-31  309900.00  287286.36  296740.91  299109.09  2638188.64  299109.09\n",
       "2018-02-28  313683.33  294361.11  302322.22  304433.33  2045820.39  304433.33\n",
       "2018-03-30  333047.62  315119.05  325023.81  323000.00  2425055.33  323000.00\n",
       "2018-04-30  291357.14  278452.38  285571.43  282833.33  1182494.76  282833.33\n",
       "2018-05-31  270350.00  258475.00  264250.00  262875.00  1050451.90  262875.00\n",
       "2018-06-29  291210.53  281236.84  285236.84  286526.32   805875.42  286526.32\n",
       "2018-07-31  287045.45  275613.64  282250.00  280181.82   739477.95  280181.82\n",
       "2018-08-31  276264.71  266676.47  271117.65  271088.24   642581.12  271088.24"
      ]
     },
     "execution_count": 149,
     "metadata": {},
     "output_type": "execute_result"
    }
   ],
   "source": [
    "cel_bm.mean().round(2)"
   ]
  },
  {
   "cell_type": "code",
   "execution_count": 150,
   "metadata": {},
   "outputs": [],
   "source": [
    "cel_m = cel.resample('M')"
   ]
  },
  {
   "cell_type": "code",
   "execution_count": 151,
   "metadata": {},
   "outputs": [
    {
     "data": {
      "text/html": [
       "<div>\n",
       "<style scoped>\n",
       "    .dataframe tbody tr th:only-of-type {\n",
       "        vertical-align: middle;\n",
       "    }\n",
       "\n",
       "    .dataframe tbody tr th {\n",
       "        vertical-align: top;\n",
       "    }\n",
       "\n",
       "    .dataframe thead th {\n",
       "        text-align: right;\n",
       "    }\n",
       "</style>\n",
       "<table border=\"1\" class=\"dataframe\">\n",
       "  <thead>\n",
       "    <tr style=\"text-align: right;\">\n",
       "      <th></th>\n",
       "      <th>High</th>\n",
       "      <th>Low</th>\n",
       "      <th>Open</th>\n",
       "      <th>Close</th>\n",
       "      <th>Volume</th>\n",
       "      <th>Adj Close</th>\n",
       "    </tr>\n",
       "    <tr>\n",
       "      <th>Date</th>\n",
       "      <th></th>\n",
       "      <th></th>\n",
       "      <th></th>\n",
       "      <th></th>\n",
       "      <th></th>\n",
       "      <th></th>\n",
       "    </tr>\n",
       "  </thead>\n",
       "  <tbody>\n",
       "    <tr>\n",
       "      <th>2018-01-31</th>\n",
       "      <td>309900.00</td>\n",
       "      <td>287286.36</td>\n",
       "      <td>296740.91</td>\n",
       "      <td>299109.09</td>\n",
       "      <td>2638188.64</td>\n",
       "      <td>299109.09</td>\n",
       "    </tr>\n",
       "    <tr>\n",
       "      <th>2018-02-28</th>\n",
       "      <td>313683.33</td>\n",
       "      <td>294361.11</td>\n",
       "      <td>302322.22</td>\n",
       "      <td>304433.33</td>\n",
       "      <td>2045820.39</td>\n",
       "      <td>304433.33</td>\n",
       "    </tr>\n",
       "    <tr>\n",
       "      <th>2018-03-31</th>\n",
       "      <td>333047.62</td>\n",
       "      <td>315119.05</td>\n",
       "      <td>325023.81</td>\n",
       "      <td>323000.00</td>\n",
       "      <td>2425055.33</td>\n",
       "      <td>323000.00</td>\n",
       "    </tr>\n",
       "    <tr>\n",
       "      <th>2018-04-30</th>\n",
       "      <td>291357.14</td>\n",
       "      <td>278452.38</td>\n",
       "      <td>285571.43</td>\n",
       "      <td>282833.33</td>\n",
       "      <td>1182494.76</td>\n",
       "      <td>282833.33</td>\n",
       "    </tr>\n",
       "    <tr>\n",
       "      <th>2018-05-31</th>\n",
       "      <td>270350.00</td>\n",
       "      <td>258475.00</td>\n",
       "      <td>264250.00</td>\n",
       "      <td>262875.00</td>\n",
       "      <td>1050451.90</td>\n",
       "      <td>262875.00</td>\n",
       "    </tr>\n",
       "    <tr>\n",
       "      <th>2018-06-30</th>\n",
       "      <td>291210.53</td>\n",
       "      <td>281236.84</td>\n",
       "      <td>285236.84</td>\n",
       "      <td>286526.32</td>\n",
       "      <td>805875.42</td>\n",
       "      <td>286526.32</td>\n",
       "    </tr>\n",
       "    <tr>\n",
       "      <th>2018-07-31</th>\n",
       "      <td>287045.45</td>\n",
       "      <td>275613.64</td>\n",
       "      <td>282250.00</td>\n",
       "      <td>280181.82</td>\n",
       "      <td>739477.95</td>\n",
       "      <td>280181.82</td>\n",
       "    </tr>\n",
       "    <tr>\n",
       "      <th>2018-08-31</th>\n",
       "      <td>276264.71</td>\n",
       "      <td>266676.47</td>\n",
       "      <td>271117.65</td>\n",
       "      <td>271088.24</td>\n",
       "      <td>642581.12</td>\n",
       "      <td>271088.24</td>\n",
       "    </tr>\n",
       "  </tbody>\n",
       "</table>\n",
       "</div>"
      ],
      "text/plain": [
       "                 High        Low       Open      Close      Volume  Adj Close\n",
       "Date                                                                         \n",
       "2018-01-31  309900.00  287286.36  296740.91  299109.09  2638188.64  299109.09\n",
       "2018-02-28  313683.33  294361.11  302322.22  304433.33  2045820.39  304433.33\n",
       "2018-03-31  333047.62  315119.05  325023.81  323000.00  2425055.33  323000.00\n",
       "2018-04-30  291357.14  278452.38  285571.43  282833.33  1182494.76  282833.33\n",
       "2018-05-31  270350.00  258475.00  264250.00  262875.00  1050451.90  262875.00\n",
       "2018-06-30  291210.53  281236.84  285236.84  286526.32   805875.42  286526.32\n",
       "2018-07-31  287045.45  275613.64  282250.00  280181.82   739477.95  280181.82\n",
       "2018-08-31  276264.71  266676.47  271117.65  271088.24   642581.12  271088.24"
      ]
     },
     "execution_count": 151,
     "metadata": {},
     "output_type": "execute_result"
    }
   ],
   "source": [
    "cel_m.mean().round(2)"
   ]
  },
  {
   "cell_type": "code",
   "execution_count": 155,
   "metadata": {},
   "outputs": [],
   "source": [
    "cel_w = cel.resample('W')"
   ]
  },
  {
   "cell_type": "code",
   "execution_count": 153,
   "metadata": {},
   "outputs": [
    {
     "data": {
      "text/html": [
       "<div>\n",
       "<style scoped>\n",
       "    .dataframe tbody tr th:only-of-type {\n",
       "        vertical-align: middle;\n",
       "    }\n",
       "\n",
       "    .dataframe tbody tr th {\n",
       "        vertical-align: top;\n",
       "    }\n",
       "\n",
       "    .dataframe thead th {\n",
       "        text-align: right;\n",
       "    }\n",
       "</style>\n",
       "<table border=\"1\" class=\"dataframe\">\n",
       "  <thead>\n",
       "    <tr style=\"text-align: right;\">\n",
       "      <th></th>\n",
       "      <th>High</th>\n",
       "      <th>Low</th>\n",
       "      <th>Open</th>\n",
       "      <th>Close</th>\n",
       "      <th>Volume</th>\n",
       "      <th>Adj Close</th>\n",
       "    </tr>\n",
       "    <tr>\n",
       "      <th>Date</th>\n",
       "      <th></th>\n",
       "      <th></th>\n",
       "      <th></th>\n",
       "      <th></th>\n",
       "      <th></th>\n",
       "      <th></th>\n",
       "    </tr>\n",
       "  </thead>\n",
       "  <tbody>\n",
       "    <tr>\n",
       "      <th>2018-01-07</th>\n",
       "      <td>250775.0</td>\n",
       "      <td>237150.0</td>\n",
       "      <td>239250.0</td>\n",
       "      <td>247375.0</td>\n",
       "      <td>2193512.5</td>\n",
       "      <td>247375.0</td>\n",
       "    </tr>\n",
       "    <tr>\n",
       "      <th>2018-01-14</th>\n",
       "      <td>323840.0</td>\n",
       "      <td>292780.0</td>\n",
       "      <td>301800.0</td>\n",
       "      <td>307900.0</td>\n",
       "      <td>4091696.8</td>\n",
       "      <td>307900.0</td>\n",
       "    </tr>\n",
       "    <tr>\n",
       "      <th>2018-01-21</th>\n",
       "      <td>339640.0</td>\n",
       "      <td>313240.0</td>\n",
       "      <td>332160.0</td>\n",
       "      <td>323600.0</td>\n",
       "      <td>2782391.0</td>\n",
       "      <td>323600.0</td>\n",
       "    </tr>\n",
       "    <tr>\n",
       "      <th>2018-01-28</th>\n",
       "      <td>299740.0</td>\n",
       "      <td>282000.0</td>\n",
       "      <td>291220.0</td>\n",
       "      <td>292560.0</td>\n",
       "      <td>1913707.2</td>\n",
       "      <td>292560.0</td>\n",
       "    </tr>\n",
       "    <tr>\n",
       "      <th>2018-02-04</th>\n",
       "      <td>324660.0</td>\n",
       "      <td>303780.0</td>\n",
       "      <td>312100.0</td>\n",
       "      <td>314360.0</td>\n",
       "      <td>1776936.0</td>\n",
       "      <td>314360.0</td>\n",
       "    </tr>\n",
       "  </tbody>\n",
       "</table>\n",
       "</div>"
      ],
      "text/plain": [
       "                High       Low      Open     Close     Volume  Adj Close\n",
       "Date                                                                    \n",
       "2018-01-07  250775.0  237150.0  239250.0  247375.0  2193512.5   247375.0\n",
       "2018-01-14  323840.0  292780.0  301800.0  307900.0  4091696.8   307900.0\n",
       "2018-01-21  339640.0  313240.0  332160.0  323600.0  2782391.0   323600.0\n",
       "2018-01-28  299740.0  282000.0  291220.0  292560.0  1913707.2   292560.0\n",
       "2018-02-04  324660.0  303780.0  312100.0  314360.0  1776936.0   314360.0"
      ]
     },
     "execution_count": 153,
     "metadata": {},
     "output_type": "execute_result"
    }
   ],
   "source": [
    "cel_w.mean().round(2).head()"
   ]
  },
  {
   "cell_type": "code",
   "execution_count": null,
   "metadata": {},
   "outputs": [],
   "source": []
  },
  {
   "cell_type": "code",
   "execution_count": 189,
   "metadata": {},
   "outputs": [],
   "source": [
    "cel_d = cel.resample('D')"
   ]
  },
  {
   "cell_type": "code",
   "execution_count": 196,
   "metadata": {},
   "outputs": [
    {
     "data": {
      "text/plain": [
       "(160, 6)"
      ]
     },
     "execution_count": 196,
     "metadata": {},
     "output_type": "execute_result"
    }
   ],
   "source": [
    "cel.shape"
   ]
  },
  {
   "cell_type": "code",
   "execution_count": 195,
   "metadata": {},
   "outputs": [
    {
     "data": {
      "text/plain": [
       "(235, 6)"
      ]
     },
     "execution_count": 195,
     "metadata": {},
     "output_type": "execute_result"
    }
   ],
   "source": [
    "cel_d.count().shape"
   ]
  },
  {
   "cell_type": "code",
   "execution_count": 201,
   "metadata": {},
   "outputs": [],
   "source": [
    "interpolated = cel_d.interpolate(method='linear').astype('int64')"
   ]
  },
  {
   "cell_type": "code",
   "execution_count": 204,
   "metadata": {},
   "outputs": [
    {
     "data": {
      "text/html": [
       "<div>\n",
       "<style scoped>\n",
       "    .dataframe tbody tr th:only-of-type {\n",
       "        vertical-align: middle;\n",
       "    }\n",
       "\n",
       "    .dataframe tbody tr th {\n",
       "        vertical-align: top;\n",
       "    }\n",
       "\n",
       "    .dataframe thead th {\n",
       "        text-align: right;\n",
       "    }\n",
       "</style>\n",
       "<table border=\"1\" class=\"dataframe\">\n",
       "  <thead>\n",
       "    <tr style=\"text-align: right;\">\n",
       "      <th></th>\n",
       "      <th>High</th>\n",
       "      <th>Low</th>\n",
       "      <th>Open</th>\n",
       "      <th>Close</th>\n",
       "      <th>Volume</th>\n",
       "      <th>Adj Close</th>\n",
       "    </tr>\n",
       "    <tr>\n",
       "      <th>Date</th>\n",
       "      <th></th>\n",
       "      <th></th>\n",
       "      <th></th>\n",
       "      <th></th>\n",
       "      <th></th>\n",
       "      <th></th>\n",
       "    </tr>\n",
       "  </thead>\n",
       "  <tbody>\n",
       "    <tr>\n",
       "      <th>2018-01-02</th>\n",
       "      <td>227700</td>\n",
       "      <td>222200</td>\n",
       "      <td>223600</td>\n",
       "      <td>225900</td>\n",
       "      <td>1176443</td>\n",
       "      <td>225900</td>\n",
       "    </tr>\n",
       "    <tr>\n",
       "      <th>2018-01-03</th>\n",
       "      <td>247200</td>\n",
       "      <td>227100</td>\n",
       "      <td>228900</td>\n",
       "      <td>246700</td>\n",
       "      <td>2411162</td>\n",
       "      <td>246700</td>\n",
       "    </tr>\n",
       "    <tr>\n",
       "      <th>2018-01-04</th>\n",
       "      <td>261200</td>\n",
       "      <td>245300</td>\n",
       "      <td>249600</td>\n",
       "      <td>250000</td>\n",
       "      <td>3265527</td>\n",
       "      <td>250000</td>\n",
       "    </tr>\n",
       "    <tr>\n",
       "      <th>2018-01-05</th>\n",
       "      <td>267000</td>\n",
       "      <td>254000</td>\n",
       "      <td>254900</td>\n",
       "      <td>266900</td>\n",
       "      <td>1920918</td>\n",
       "      <td>266900</td>\n",
       "    </tr>\n",
       "    <tr>\n",
       "      <th>2018-01-06</th>\n",
       "      <td>279066</td>\n",
       "      <td>261733</td>\n",
       "      <td>262766</td>\n",
       "      <td>278766</td>\n",
       "      <td>2713535</td>\n",
       "      <td>278766</td>\n",
       "    </tr>\n",
       "    <tr>\n",
       "      <th>2018-01-07</th>\n",
       "      <td>291133</td>\n",
       "      <td>269466</td>\n",
       "      <td>270633</td>\n",
       "      <td>290633</td>\n",
       "      <td>3506152</td>\n",
       "      <td>290633</td>\n",
       "    </tr>\n",
       "    <tr>\n",
       "      <th>2018-01-08</th>\n",
       "      <td>303200</td>\n",
       "      <td>277200</td>\n",
       "      <td>278500</td>\n",
       "      <td>302500</td>\n",
       "      <td>4298770</td>\n",
       "      <td>302500</td>\n",
       "    </tr>\n",
       "  </tbody>\n",
       "</table>\n",
       "</div>"
      ],
      "text/plain": [
       "              High     Low    Open   Close   Volume  Adj Close\n",
       "Date                                                          \n",
       "2018-01-02  227700  222200  223600  225900  1176443     225900\n",
       "2018-01-03  247200  227100  228900  246700  2411162     246700\n",
       "2018-01-04  261200  245300  249600  250000  3265527     250000\n",
       "2018-01-05  267000  254000  254900  266900  1920918     266900\n",
       "2018-01-06  279066  261733  262766  278766  2713535     278766\n",
       "2018-01-07  291133  269466  270633  290633  3506152     290633\n",
       "2018-01-08  303200  277200  278500  302500  4298770     302500"
      ]
     },
     "execution_count": 204,
     "metadata": {},
     "output_type": "execute_result"
    }
   ],
   "source": [
    "interpolated.head(7)"
   ]
  },
  {
   "cell_type": "code",
   "execution_count": 203,
   "metadata": {},
   "outputs": [
    {
     "data": {
      "text/html": [
       "<div>\n",
       "<style scoped>\n",
       "    .dataframe tbody tr th:only-of-type {\n",
       "        vertical-align: middle;\n",
       "    }\n",
       "\n",
       "    .dataframe tbody tr th {\n",
       "        vertical-align: top;\n",
       "    }\n",
       "\n",
       "    .dataframe thead th {\n",
       "        text-align: right;\n",
       "    }\n",
       "</style>\n",
       "<table border=\"1\" class=\"dataframe\">\n",
       "  <thead>\n",
       "    <tr style=\"text-align: right;\">\n",
       "      <th></th>\n",
       "      <th>High</th>\n",
       "      <th>Low</th>\n",
       "      <th>Open</th>\n",
       "      <th>Close</th>\n",
       "      <th>Volume</th>\n",
       "      <th>Adj Close</th>\n",
       "    </tr>\n",
       "    <tr>\n",
       "      <th>Date</th>\n",
       "      <th></th>\n",
       "      <th></th>\n",
       "      <th></th>\n",
       "      <th></th>\n",
       "      <th></th>\n",
       "      <th></th>\n",
       "    </tr>\n",
       "  </thead>\n",
       "  <tbody>\n",
       "    <tr>\n",
       "      <th>2018-01-02</th>\n",
       "      <td>227700</td>\n",
       "      <td>222200</td>\n",
       "      <td>223600</td>\n",
       "      <td>225900</td>\n",
       "      <td>1176443</td>\n",
       "      <td>225900</td>\n",
       "    </tr>\n",
       "    <tr>\n",
       "      <th>2018-01-03</th>\n",
       "      <td>247200</td>\n",
       "      <td>227100</td>\n",
       "      <td>228900</td>\n",
       "      <td>246700</td>\n",
       "      <td>2411162</td>\n",
       "      <td>246700</td>\n",
       "    </tr>\n",
       "    <tr>\n",
       "      <th>2018-01-04</th>\n",
       "      <td>261200</td>\n",
       "      <td>245300</td>\n",
       "      <td>249600</td>\n",
       "      <td>250000</td>\n",
       "      <td>3265527</td>\n",
       "      <td>250000</td>\n",
       "    </tr>\n",
       "    <tr>\n",
       "      <th>2018-01-05</th>\n",
       "      <td>267000</td>\n",
       "      <td>254000</td>\n",
       "      <td>254900</td>\n",
       "      <td>266900</td>\n",
       "      <td>1920918</td>\n",
       "      <td>266900</td>\n",
       "    </tr>\n",
       "    <tr>\n",
       "      <th>2018-01-08</th>\n",
       "      <td>303200</td>\n",
       "      <td>277200</td>\n",
       "      <td>278500</td>\n",
       "      <td>302500</td>\n",
       "      <td>4298770</td>\n",
       "      <td>302500</td>\n",
       "    </tr>\n",
       "  </tbody>\n",
       "</table>\n",
       "</div>"
      ],
      "text/plain": [
       "              High     Low    Open   Close   Volume  Adj Close\n",
       "Date                                                          \n",
       "2018-01-02  227700  222200  223600  225900  1176443     225900\n",
       "2018-01-03  247200  227100  228900  246700  2411162     246700\n",
       "2018-01-04  261200  245300  249600  250000  3265527     250000\n",
       "2018-01-05  267000  254000  254900  266900  1920918     266900\n",
       "2018-01-08  303200  277200  278500  302500  4298770     302500"
      ]
     },
     "execution_count": 203,
     "metadata": {},
     "output_type": "execute_result"
    }
   ],
   "source": [
    "cel.head()"
   ]
  },
  {
   "cell_type": "code",
   "execution_count": null,
   "metadata": {},
   "outputs": [],
   "source": []
  },
  {
   "cell_type": "code",
   "execution_count": 207,
   "metadata": {},
   "outputs": [],
   "source": [
    "in_spline = cel_d.interpolate(method='spline', order=2).astype('int64')"
   ]
  },
  {
   "cell_type": "code",
   "execution_count": 209,
   "metadata": {},
   "outputs": [
    {
     "data": {
      "text/html": [
       "<div>\n",
       "<style scoped>\n",
       "    .dataframe tbody tr th:only-of-type {\n",
       "        vertical-align: middle;\n",
       "    }\n",
       "\n",
       "    .dataframe tbody tr th {\n",
       "        vertical-align: top;\n",
       "    }\n",
       "\n",
       "    .dataframe thead th {\n",
       "        text-align: right;\n",
       "    }\n",
       "</style>\n",
       "<table border=\"1\" class=\"dataframe\">\n",
       "  <thead>\n",
       "    <tr style=\"text-align: right;\">\n",
       "      <th></th>\n",
       "      <th>High</th>\n",
       "      <th>Low</th>\n",
       "      <th>Open</th>\n",
       "      <th>Close</th>\n",
       "      <th>Volume</th>\n",
       "      <th>Adj Close</th>\n",
       "    </tr>\n",
       "    <tr>\n",
       "      <th>Date</th>\n",
       "      <th></th>\n",
       "      <th></th>\n",
       "      <th></th>\n",
       "      <th></th>\n",
       "      <th></th>\n",
       "      <th></th>\n",
       "    </tr>\n",
       "  </thead>\n",
       "  <tbody>\n",
       "    <tr>\n",
       "      <th>2018-01-02</th>\n",
       "      <td>227700</td>\n",
       "      <td>222200</td>\n",
       "      <td>223600</td>\n",
       "      <td>225900</td>\n",
       "      <td>1176443</td>\n",
       "      <td>225900</td>\n",
       "    </tr>\n",
       "    <tr>\n",
       "      <th>2018-01-03</th>\n",
       "      <td>247200</td>\n",
       "      <td>227100</td>\n",
       "      <td>228900</td>\n",
       "      <td>246700</td>\n",
       "      <td>2411162</td>\n",
       "      <td>246700</td>\n",
       "    </tr>\n",
       "    <tr>\n",
       "      <th>2018-01-04</th>\n",
       "      <td>261200</td>\n",
       "      <td>245300</td>\n",
       "      <td>249600</td>\n",
       "      <td>250000</td>\n",
       "      <td>3265527</td>\n",
       "      <td>250000</td>\n",
       "    </tr>\n",
       "    <tr>\n",
       "      <th>2018-01-05</th>\n",
       "      <td>267000</td>\n",
       "      <td>254000</td>\n",
       "      <td>254900</td>\n",
       "      <td>266900</td>\n",
       "      <td>1920918</td>\n",
       "      <td>266900</td>\n",
       "    </tr>\n",
       "    <tr>\n",
       "      <th>2018-01-06</th>\n",
       "      <td>274933</td>\n",
       "      <td>259785</td>\n",
       "      <td>257214</td>\n",
       "      <td>285516</td>\n",
       "      <td>1691992</td>\n",
       "      <td>285516</td>\n",
       "    </tr>\n",
       "    <tr>\n",
       "      <th>2018-01-07</th>\n",
       "      <td>286897</td>\n",
       "      <td>265462</td>\n",
       "      <td>261393</td>\n",
       "      <td>301078</td>\n",
       "      <td>2960826</td>\n",
       "      <td>301078</td>\n",
       "    </tr>\n",
       "    <tr>\n",
       "      <th>2018-01-08</th>\n",
       "      <td>303200</td>\n",
       "      <td>277200</td>\n",
       "      <td>278500</td>\n",
       "      <td>302500</td>\n",
       "      <td>4298770</td>\n",
       "      <td>302500</td>\n",
       "    </tr>\n",
       "  </tbody>\n",
       "</table>\n",
       "</div>"
      ],
      "text/plain": [
       "              High     Low    Open   Close   Volume  Adj Close\n",
       "Date                                                          \n",
       "2018-01-02  227700  222200  223600  225900  1176443     225900\n",
       "2018-01-03  247200  227100  228900  246700  2411162     246700\n",
       "2018-01-04  261200  245300  249600  250000  3265527     250000\n",
       "2018-01-05  267000  254000  254900  266900  1920918     266900\n",
       "2018-01-06  274933  259785  257214  285516  1691992     285516\n",
       "2018-01-07  286897  265462  261393  301078  2960826     301078\n",
       "2018-01-08  303200  277200  278500  302500  4298770     302500"
      ]
     },
     "execution_count": 209,
     "metadata": {},
     "output_type": "execute_result"
    }
   ],
   "source": [
    "in_spline.head(7)"
   ]
  },
  {
   "cell_type": "code",
   "execution_count": null,
   "metadata": {},
   "outputs": [],
   "source": []
  },
  {
   "cell_type": "code",
   "execution_count": 226,
   "metadata": {},
   "outputs": [],
   "source": [
    "index = pd.date_range('1/1/2018', periods=9, freq='T')"
   ]
  },
  {
   "cell_type": "code",
   "execution_count": 227,
   "metadata": {},
   "outputs": [],
   "source": [
    "series = pd.Series(range(9), index=index)"
   ]
  },
  {
   "cell_type": "code",
   "execution_count": 228,
   "metadata": {},
   "outputs": [
    {
     "data": {
      "text/plain": [
       "2018-01-01 00:00:00    0\n",
       "2018-01-01 00:01:00    1\n",
       "2018-01-01 00:02:00    2\n",
       "2018-01-01 00:03:00    3\n",
       "2018-01-01 00:04:00    4\n",
       "2018-01-01 00:05:00    5\n",
       "2018-01-01 00:06:00    6\n",
       "2018-01-01 00:07:00    7\n",
       "2018-01-01 00:08:00    8\n",
       "Freq: T, dtype: int64"
      ]
     },
     "execution_count": 228,
     "metadata": {},
     "output_type": "execute_result"
    }
   ],
   "source": [
    "series "
   ]
  },
  {
   "cell_type": "code",
   "execution_count": 229,
   "metadata": {},
   "outputs": [
    {
     "data": {
      "text/plain": [
       "2018-01-01 00:00:00     3\n",
       "2018-01-01 00:03:00    12\n",
       "2018-01-01 00:06:00    21\n",
       "Freq: 3T, dtype: int64"
      ]
     },
     "execution_count": 229,
     "metadata": {},
     "output_type": "execute_result"
    }
   ],
   "source": [
    "series.resample('3T').sum()"
   ]
  },
  {
   "cell_type": "code",
   "execution_count": 233,
   "metadata": {},
   "outputs": [
    {
     "data": {
      "text/plain": [
       "2018-01-01 00:03:00     3\n",
       "2018-01-01 00:06:00    12\n",
       "2018-01-01 00:09:00    21\n",
       "Freq: 3T, dtype: int64"
      ]
     },
     "execution_count": 233,
     "metadata": {},
     "output_type": "execute_result"
    }
   ],
   "source": [
    "series.resample('3T', label='right').sum()"
   ]
  },
  {
   "cell_type": "code",
   "execution_count": 232,
   "metadata": {},
   "outputs": [
    {
     "data": {
      "text/plain": [
       "2018-01-01 00:00:00     0\n",
       "2018-01-01 00:03:00     6\n",
       "2018-01-01 00:06:00    15\n",
       "2018-01-01 00:09:00    15\n",
       "Freq: 3T, dtype: int64"
      ]
     },
     "execution_count": 232,
     "metadata": {},
     "output_type": "execute_result"
    }
   ],
   "source": [
    "series.resample('3T', label='right', closed='right').sum()"
   ]
  },
  {
   "cell_type": "code",
   "execution_count": null,
   "metadata": {},
   "outputs": [],
   "source": []
  },
  {
   "cell_type": "code",
   "execution_count": 223,
   "metadata": {},
   "outputs": [],
   "source": [
    "index_h = pd.date_range('1/1/2018', periods=9, freq='H')"
   ]
  },
  {
   "cell_type": "code",
   "execution_count": 224,
   "metadata": {},
   "outputs": [],
   "source": [
    "series_h = pd.Series(range(9), index=index_h)"
   ]
  },
  {
   "cell_type": "code",
   "execution_count": 225,
   "metadata": {},
   "outputs": [
    {
     "data": {
      "text/plain": [
       "2018-01-01 00:00:00    0\n",
       "2018-01-01 01:00:00    1\n",
       "2018-01-01 02:00:00    2\n",
       "2018-01-01 03:00:00    3\n",
       "2018-01-01 04:00:00    4\n",
       "2018-01-01 05:00:00    5\n",
       "2018-01-01 06:00:00    6\n",
       "2018-01-01 07:00:00    7\n",
       "2018-01-01 08:00:00    8\n",
       "Freq: H, dtype: int64"
      ]
     },
     "execution_count": 225,
     "metadata": {},
     "output_type": "execute_result"
    }
   ],
   "source": [
    "series_h"
   ]
  },
  {
   "cell_type": "code",
   "execution_count": 237,
   "metadata": {},
   "outputs": [],
   "source": [
    "sh_re = series_h.resample('3H')"
   ]
  },
  {
   "cell_type": "code",
   "execution_count": 238,
   "metadata": {},
   "outputs": [
    {
     "data": {
      "text/plain": [
       "pandas.core.resample.DatetimeIndexResampler"
      ]
     },
     "execution_count": 238,
     "metadata": {},
     "output_type": "execute_result"
    }
   ],
   "source": [
    "type(sh_re)"
   ]
  },
  {
   "cell_type": "code",
   "execution_count": 222,
   "metadata": {},
   "outputs": [
    {
     "data": {
      "text/plain": [
       "2018-01-01 00:00:00     3\n",
       "2018-01-01 03:00:00    12\n",
       "2018-01-01 06:00:00    21\n",
       "Freq: 3H, dtype: int64"
      ]
     },
     "execution_count": 222,
     "metadata": {},
     "output_type": "execute_result"
    }
   ],
   "source": [
    "series_h.resample('3H').sum()"
   ]
  },
  {
   "cell_type": "code",
   "execution_count": null,
   "metadata": {},
   "outputs": [],
   "source": []
  },
  {
   "cell_type": "code",
   "execution_count": 235,
   "metadata": {},
   "outputs": [],
   "source": [
    "sh = series_h.asfreq(freq='3H')"
   ]
  },
  {
   "cell_type": "code",
   "execution_count": 236,
   "metadata": {},
   "outputs": [
    {
     "data": {
      "text/plain": [
       "pandas.core.series.Series"
      ]
     },
     "execution_count": 236,
     "metadata": {},
     "output_type": "execute_result"
    }
   ],
   "source": [
    "type(sh)"
   ]
  },
  {
   "cell_type": "code",
   "execution_count": 240,
   "metadata": {},
   "outputs": [
    {
     "data": {
      "text/plain": [
       "2018-01-01 00:00:00    0\n",
       "2018-01-01 03:00:00    3\n",
       "2018-01-01 06:00:00    6\n",
       "Freq: 3H, dtype: int64"
      ]
     },
     "execution_count": 240,
     "metadata": {},
     "output_type": "execute_result"
    }
   ],
   "source": [
    "sh"
   ]
  },
  {
   "cell_type": "code",
   "execution_count": null,
   "metadata": {},
   "outputs": [],
   "source": []
  },
  {
   "cell_type": "markdown",
   "metadata": {},
   "source": [
    "## 예제 7-6 추가 메소드 적용하기"
   ]
  },
  {
   "cell_type": "code",
   "execution_count": 156,
   "metadata": {},
   "outputs": [],
   "source": [
    "from pandas_datareader import data"
   ]
  },
  {
   "cell_type": "code",
   "execution_count": 173,
   "metadata": {},
   "outputs": [],
   "source": [
    "cel_s = data.DataReader(\"068270.KS\", \"yahoo\", '2018-01-02', '2018-08-31')"
   ]
  },
  {
   "cell_type": "code",
   "execution_count": 174,
   "metadata": {},
   "outputs": [
    {
     "data": {
      "text/html": [
       "<div>\n",
       "<style scoped>\n",
       "    .dataframe tbody tr th:only-of-type {\n",
       "        vertical-align: middle;\n",
       "    }\n",
       "\n",
       "    .dataframe tbody tr th {\n",
       "        vertical-align: top;\n",
       "    }\n",
       "\n",
       "    .dataframe thead th {\n",
       "        text-align: right;\n",
       "    }\n",
       "</style>\n",
       "<table border=\"1\" class=\"dataframe\">\n",
       "  <thead>\n",
       "    <tr style=\"text-align: right;\">\n",
       "      <th></th>\n",
       "      <th>High</th>\n",
       "      <th>Low</th>\n",
       "      <th>Open</th>\n",
       "      <th>Close</th>\n",
       "      <th>Volume</th>\n",
       "      <th>Adj Close</th>\n",
       "    </tr>\n",
       "  </thead>\n",
       "  <tbody>\n",
       "    <tr>\n",
       "      <th>High</th>\n",
       "      <td>1.000000</td>\n",
       "      <td>0.959914</td>\n",
       "      <td>0.963528</td>\n",
       "      <td>0.969840</td>\n",
       "      <td>0.411717</td>\n",
       "      <td>0.969840</td>\n",
       "    </tr>\n",
       "    <tr>\n",
       "      <th>Low</th>\n",
       "      <td>0.959914</td>\n",
       "      <td>1.000000</td>\n",
       "      <td>0.969088</td>\n",
       "      <td>0.965830</td>\n",
       "      <td>0.215503</td>\n",
       "      <td>0.965830</td>\n",
       "    </tr>\n",
       "    <tr>\n",
       "      <th>Open</th>\n",
       "      <td>0.963528</td>\n",
       "      <td>0.969088</td>\n",
       "      <td>1.000000</td>\n",
       "      <td>0.921463</td>\n",
       "      <td>0.292557</td>\n",
       "      <td>0.921463</td>\n",
       "    </tr>\n",
       "    <tr>\n",
       "      <th>Close</th>\n",
       "      <td>0.969840</td>\n",
       "      <td>0.965830</td>\n",
       "      <td>0.921463</td>\n",
       "      <td>1.000000</td>\n",
       "      <td>0.329955</td>\n",
       "      <td>1.000000</td>\n",
       "    </tr>\n",
       "    <tr>\n",
       "      <th>Volume</th>\n",
       "      <td>0.411717</td>\n",
       "      <td>0.215503</td>\n",
       "      <td>0.292557</td>\n",
       "      <td>0.329955</td>\n",
       "      <td>1.000000</td>\n",
       "      <td>0.329955</td>\n",
       "    </tr>\n",
       "    <tr>\n",
       "      <th>Adj Close</th>\n",
       "      <td>0.969840</td>\n",
       "      <td>0.965830</td>\n",
       "      <td>0.921463</td>\n",
       "      <td>1.000000</td>\n",
       "      <td>0.329955</td>\n",
       "      <td>1.000000</td>\n",
       "    </tr>\n",
       "  </tbody>\n",
       "</table>\n",
       "</div>"
      ],
      "text/plain": [
       "               High       Low      Open     Close    Volume  Adj Close\n",
       "High       1.000000  0.959914  0.963528  0.969840  0.411717   0.969840\n",
       "Low        0.959914  1.000000  0.969088  0.965830  0.215503   0.965830\n",
       "Open       0.963528  0.969088  1.000000  0.921463  0.292557   0.921463\n",
       "Close      0.969840  0.965830  0.921463  1.000000  0.329955   1.000000\n",
       "Volume     0.411717  0.215503  0.292557  0.329955  1.000000   0.329955\n",
       "Adj Close  0.969840  0.965830  0.921463  1.000000  0.329955   1.000000"
      ]
     },
     "execution_count": 174,
     "metadata": {},
     "output_type": "execute_result"
    }
   ],
   "source": [
    "cel_s.corr()"
   ]
  },
  {
   "cell_type": "code",
   "execution_count": 175,
   "metadata": {},
   "outputs": [
    {
     "data": {
      "text/html": [
       "<div>\n",
       "<style scoped>\n",
       "    .dataframe tbody tr th:only-of-type {\n",
       "        vertical-align: middle;\n",
       "    }\n",
       "\n",
       "    .dataframe tbody tr th {\n",
       "        vertical-align: top;\n",
       "    }\n",
       "\n",
       "    .dataframe thead th {\n",
       "        text-align: right;\n",
       "    }\n",
       "</style>\n",
       "<table border=\"1\" class=\"dataframe\">\n",
       "  <thead>\n",
       "    <tr style=\"text-align: right;\">\n",
       "      <th></th>\n",
       "      <th>High</th>\n",
       "      <th>Low</th>\n",
       "      <th>Open</th>\n",
       "      <th>Close</th>\n",
       "      <th>Volume</th>\n",
       "      <th>Adj Close</th>\n",
       "    </tr>\n",
       "    <tr>\n",
       "      <th>Date</th>\n",
       "      <th></th>\n",
       "      <th></th>\n",
       "      <th></th>\n",
       "      <th></th>\n",
       "      <th></th>\n",
       "      <th></th>\n",
       "    </tr>\n",
       "  </thead>\n",
       "  <tbody>\n",
       "    <tr>\n",
       "      <th>2018-01-02</th>\n",
       "      <td>227700</td>\n",
       "      <td>222200</td>\n",
       "      <td>223600</td>\n",
       "      <td>225900</td>\n",
       "      <td>1176443</td>\n",
       "      <td>225900</td>\n",
       "    </tr>\n",
       "    <tr>\n",
       "      <th>2018-01-03</th>\n",
       "      <td>474900</td>\n",
       "      <td>449300</td>\n",
       "      <td>452500</td>\n",
       "      <td>472600</td>\n",
       "      <td>3587605</td>\n",
       "      <td>472600</td>\n",
       "    </tr>\n",
       "    <tr>\n",
       "      <th>2018-01-04</th>\n",
       "      <td>736100</td>\n",
       "      <td>694600</td>\n",
       "      <td>702100</td>\n",
       "      <td>722600</td>\n",
       "      <td>6853132</td>\n",
       "      <td>722600</td>\n",
       "    </tr>\n",
       "    <tr>\n",
       "      <th>2018-01-05</th>\n",
       "      <td>1003100</td>\n",
       "      <td>948600</td>\n",
       "      <td>957000</td>\n",
       "      <td>989500</td>\n",
       "      <td>8774050</td>\n",
       "      <td>989500</td>\n",
       "    </tr>\n",
       "    <tr>\n",
       "      <th>2018-01-08</th>\n",
       "      <td>1306300</td>\n",
       "      <td>1225800</td>\n",
       "      <td>1235500</td>\n",
       "      <td>1292000</td>\n",
       "      <td>13072820</td>\n",
       "      <td>1292000</td>\n",
       "    </tr>\n",
       "  </tbody>\n",
       "</table>\n",
       "</div>"
      ],
      "text/plain": [
       "               High      Low     Open    Close    Volume  Adj Close\n",
       "Date                                                               \n",
       "2018-01-02   227700   222200   223600   225900   1176443     225900\n",
       "2018-01-03   474900   449300   452500   472600   3587605     472600\n",
       "2018-01-04   736100   694600   702100   722600   6853132     722600\n",
       "2018-01-05  1003100   948600   957000   989500   8774050     989500\n",
       "2018-01-08  1306300  1225800  1235500  1292000  13072820    1292000"
      ]
     },
     "execution_count": 175,
     "metadata": {},
     "output_type": "execute_result"
    }
   ],
   "source": [
    "cel_s.cumsum().head()"
   ]
  },
  {
   "cell_type": "code",
   "execution_count": 176,
   "metadata": {},
   "outputs": [
    {
     "data": {
      "text/html": [
       "<div>\n",
       "<style scoped>\n",
       "    .dataframe tbody tr th:only-of-type {\n",
       "        vertical-align: middle;\n",
       "    }\n",
       "\n",
       "    .dataframe tbody tr th {\n",
       "        vertical-align: top;\n",
       "    }\n",
       "\n",
       "    .dataframe thead th {\n",
       "        text-align: right;\n",
       "    }\n",
       "</style>\n",
       "<table border=\"1\" class=\"dataframe\">\n",
       "  <thead>\n",
       "    <tr style=\"text-align: right;\">\n",
       "      <th></th>\n",
       "      <th>High</th>\n",
       "      <th>Low</th>\n",
       "      <th>Open</th>\n",
       "      <th>Close</th>\n",
       "      <th>Volume</th>\n",
       "      <th>Adj Close</th>\n",
       "    </tr>\n",
       "    <tr>\n",
       "      <th>Date</th>\n",
       "      <th></th>\n",
       "      <th></th>\n",
       "      <th></th>\n",
       "      <th></th>\n",
       "      <th></th>\n",
       "      <th></th>\n",
       "    </tr>\n",
       "  </thead>\n",
       "  <tbody>\n",
       "    <tr>\n",
       "      <th>2018-08-20</th>\n",
       "      <td>46428600</td>\n",
       "      <td>44123800</td>\n",
       "      <td>45236600</td>\n",
       "      <td>45167200</td>\n",
       "      <td>232277146</td>\n",
       "      <td>45167200</td>\n",
       "    </tr>\n",
       "    <tr>\n",
       "      <th>2018-08-21</th>\n",
       "      <td>46699600</td>\n",
       "      <td>44386300</td>\n",
       "      <td>45501100</td>\n",
       "      <td>45435700</td>\n",
       "      <td>232907738</td>\n",
       "      <td>45435700</td>\n",
       "    </tr>\n",
       "    <tr>\n",
       "      <th>2018-08-22</th>\n",
       "      <td>46975100</td>\n",
       "      <td>44654300</td>\n",
       "      <td>45771600</td>\n",
       "      <td>45704200</td>\n",
       "      <td>233381740</td>\n",
       "      <td>45704200</td>\n",
       "    </tr>\n",
       "    <tr>\n",
       "      <th>2018-08-23</th>\n",
       "      <td>47249100</td>\n",
       "      <td>44922300</td>\n",
       "      <td>46041100</td>\n",
       "      <td>45978200</td>\n",
       "      <td>233777558</td>\n",
       "      <td>45978200</td>\n",
       "    </tr>\n",
       "    <tr>\n",
       "      <th>2018-08-24</th>\n",
       "      <td>47530100</td>\n",
       "      <td>45193800</td>\n",
       "      <td>46315600</td>\n",
       "      <td>46257200</td>\n",
       "      <td>234330680</td>\n",
       "      <td>46257200</td>\n",
       "    </tr>\n",
       "  </tbody>\n",
       "</table>\n",
       "</div>"
      ],
      "text/plain": [
       "                High       Low      Open     Close     Volume  Adj Close\n",
       "Date                                                                    \n",
       "2018-08-20  46428600  44123800  45236600  45167200  232277146   45167200\n",
       "2018-08-21  46699600  44386300  45501100  45435700  232907738   45435700\n",
       "2018-08-22  46975100  44654300  45771600  45704200  233381740   45704200\n",
       "2018-08-23  47249100  44922300  46041100  45978200  233777558   45978200\n",
       "2018-08-24  47530100  45193800  46315600  46257200  234330680   46257200"
      ]
     },
     "execution_count": 176,
     "metadata": {},
     "output_type": "execute_result"
    }
   ],
   "source": [
    "cel_s.cumsum().tail()"
   ]
  },
  {
   "cell_type": "code",
   "execution_count": 179,
   "metadata": {},
   "outputs": [
    {
     "data": {
      "text/plain": [
       "Date\n",
       "2018-01-02                 227700\n",
       "2018-01-03            56287440000\n",
       "2018-01-04      14702279328000000\n",
       "2018-01-05   -3647907124134494208\n",
       "2018-01-08    2887877972361478144\n",
       "Name: High, dtype: int64"
      ]
     },
     "execution_count": 179,
     "metadata": {},
     "output_type": "execute_result"
    }
   ],
   "source": [
    "cel_s.cumprod()['High'].head()"
   ]
  },
  {
   "cell_type": "code",
   "execution_count": null,
   "metadata": {},
   "outputs": [],
   "source": []
  },
  {
   "cell_type": "code",
   "execution_count": 180,
   "metadata": {},
   "outputs": [],
   "source": [
    "cel_as = cel_s.astype('float64')"
   ]
  },
  {
   "cell_type": "code",
   "execution_count": 185,
   "metadata": {},
   "outputs": [
    {
     "data": {
      "text/plain": [
       "inf"
      ]
     },
     "execution_count": 185,
     "metadata": {},
     "output_type": "execute_result"
    }
   ],
   "source": [
    "cel_as.cumprod()['High'].iloc[100]"
   ]
  },
  {
   "cell_type": "code",
   "execution_count": null,
   "metadata": {},
   "outputs": [],
   "source": []
  }
 ],
 "metadata": {
  "kernelspec": {
   "display_name": "Python 3",
   "language": "python",
   "name": "python3"
  },
  "language_info": {
   "codemirror_mode": {
    "name": "ipython",
    "version": 3
   },
   "file_extension": ".py",
   "mimetype": "text/x-python",
   "name": "python",
   "nbconvert_exporter": "python",
   "pygments_lexer": "ipython3",
   "version": "3.6.6"
  }
 },
 "nbformat": 4,
 "nbformat_minor": 2
}
