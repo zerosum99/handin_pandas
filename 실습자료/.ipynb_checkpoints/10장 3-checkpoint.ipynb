{
 "cells": [
  {
   "cell_type": "code",
   "execution_count": 1,
   "metadata": {},
   "outputs": [],
   "source": [
    "import pandas as pd"
   ]
  },
  {
   "cell_type": "markdown",
   "metadata": {
    "collapsed": true
   },
   "source": [
    "## 예제 10-10 주가 정보 가져와서 확인하기"
   ]
  },
  {
   "cell_type": "code",
   "execution_count": 2,
   "metadata": {},
   "outputs": [],
   "source": [
    "import matplotlib.pyplot as plt"
   ]
  },
  {
   "cell_type": "code",
   "execution_count": 3,
   "metadata": {},
   "outputs": [],
   "source": [
    "%matplotlib inline"
   ]
  },
  {
   "cell_type": "markdown",
   "metadata": {},
   "source": [
    "!conda install -c anaconda pandas-datareader "
   ]
  },
  {
   "cell_type": "markdown",
   "metadata": {},
   "source": [
    "!pip install pandas-datareader "
   ]
  },
  {
   "cell_type": "code",
   "execution_count": null,
   "metadata": {},
   "outputs": [],
   "source": []
  },
  {
   "cell_type": "code",
   "execution_count": 4,
   "metadata": {
    "scrolled": true
   },
   "outputs": [],
   "source": [
    "from pandas_datareader import data"
   ]
  },
  {
   "cell_type": "code",
   "execution_count": 5,
   "metadata": {},
   "outputs": [],
   "source": [
    "import datetime"
   ]
  },
  {
   "cell_type": "code",
   "execution_count": 6,
   "metadata": {},
   "outputs": [],
   "source": [
    "start = datetime.datetime(2014, 2, 19)"
   ]
  },
  {
   "cell_type": "code",
   "execution_count": 7,
   "metadata": {},
   "outputs": [],
   "source": [
    "end = datetime.datetime(2018, 3, 4)"
   ]
  },
  {
   "cell_type": "code",
   "execution_count": null,
   "metadata": {},
   "outputs": [],
   "source": []
  },
  {
   "cell_type": "code",
   "execution_count": 8,
   "metadata": {},
   "outputs": [],
   "source": [
    "f = data.DataReader(\"068270.KS\", \"yahoo\", start, end)"
   ]
  },
  {
   "cell_type": "code",
   "execution_count": 9,
   "metadata": {},
   "outputs": [
    {
     "data": {
      "text/html": [
       "<div>\n",
       "<style scoped>\n",
       "    .dataframe tbody tr th:only-of-type {\n",
       "        vertical-align: middle;\n",
       "    }\n",
       "\n",
       "    .dataframe tbody tr th {\n",
       "        vertical-align: top;\n",
       "    }\n",
       "\n",
       "    .dataframe thead th {\n",
       "        text-align: right;\n",
       "    }\n",
       "</style>\n",
       "<table border=\"1\" class=\"dataframe\">\n",
       "  <thead>\n",
       "    <tr style=\"text-align: right;\">\n",
       "      <th></th>\n",
       "      <th>High</th>\n",
       "      <th>Low</th>\n",
       "      <th>Open</th>\n",
       "      <th>Close</th>\n",
       "      <th>Volume</th>\n",
       "      <th>Adj Close</th>\n",
       "    </tr>\n",
       "    <tr>\n",
       "      <th>Date</th>\n",
       "      <th></th>\n",
       "      <th></th>\n",
       "      <th></th>\n",
       "      <th></th>\n",
       "      <th></th>\n",
       "      <th></th>\n",
       "    </tr>\n",
       "  </thead>\n",
       "  <tbody>\n",
       "    <tr>\n",
       "      <th>2014-02-19</th>\n",
       "      <td>42217.500000</td>\n",
       "      <td>38505.199219</td>\n",
       "      <td>39023.199219</td>\n",
       "      <td>41311.000000</td>\n",
       "      <td>3509017</td>\n",
       "      <td>41311.000000</td>\n",
       "    </tr>\n",
       "    <tr>\n",
       "      <th>2014-02-20</th>\n",
       "      <td>41699.500000</td>\n",
       "      <td>39843.300781</td>\n",
       "      <td>41570.000000</td>\n",
       "      <td>40145.500000</td>\n",
       "      <td>1413760</td>\n",
       "      <td>40145.500000</td>\n",
       "    </tr>\n",
       "    <tr>\n",
       "      <th>2014-02-21</th>\n",
       "      <td>41267.898438</td>\n",
       "      <td>39972.800781</td>\n",
       "      <td>40490.898438</td>\n",
       "      <td>40620.398438</td>\n",
       "      <td>793916</td>\n",
       "      <td>40620.398438</td>\n",
       "    </tr>\n",
       "    <tr>\n",
       "      <th>2014-02-24</th>\n",
       "      <td>41915.398438</td>\n",
       "      <td>40620.398438</td>\n",
       "      <td>40922.500000</td>\n",
       "      <td>40706.699219</td>\n",
       "      <td>884032</td>\n",
       "      <td>40706.699219</td>\n",
       "    </tr>\n",
       "    <tr>\n",
       "      <th>2014-02-25</th>\n",
       "      <td>41267.898438</td>\n",
       "      <td>40275.000000</td>\n",
       "      <td>41052.000000</td>\n",
       "      <td>40922.500000</td>\n",
       "      <td>501225</td>\n",
       "      <td>40922.500000</td>\n",
       "    </tr>\n",
       "  </tbody>\n",
       "</table>\n",
       "</div>"
      ],
      "text/plain": [
       "                    High           Low          Open         Close   Volume  \\\n",
       "Date                                                                          \n",
       "2014-02-19  42217.500000  38505.199219  39023.199219  41311.000000  3509017   \n",
       "2014-02-20  41699.500000  39843.300781  41570.000000  40145.500000  1413760   \n",
       "2014-02-21  41267.898438  39972.800781  40490.898438  40620.398438   793916   \n",
       "2014-02-24  41915.398438  40620.398438  40922.500000  40706.699219   884032   \n",
       "2014-02-25  41267.898438  40275.000000  41052.000000  40922.500000   501225   \n",
       "\n",
       "               Adj Close  \n",
       "Date                      \n",
       "2014-02-19  41311.000000  \n",
       "2014-02-20  40145.500000  \n",
       "2014-02-21  40620.398438  \n",
       "2014-02-24  40706.699219  \n",
       "2014-02-25  40922.500000  "
      ]
     },
     "execution_count": 9,
     "metadata": {},
     "output_type": "execute_result"
    }
   ],
   "source": [
    "f.head()"
   ]
  },
  {
   "cell_type": "code",
   "execution_count": 10,
   "metadata": {},
   "outputs": [
    {
     "data": {
      "text/html": [
       "<div>\n",
       "<style scoped>\n",
       "    .dataframe tbody tr th:only-of-type {\n",
       "        vertical-align: middle;\n",
       "    }\n",
       "\n",
       "    .dataframe tbody tr th {\n",
       "        vertical-align: top;\n",
       "    }\n",
       "\n",
       "    .dataframe thead th {\n",
       "        text-align: right;\n",
       "    }\n",
       "</style>\n",
       "<table border=\"1\" class=\"dataframe\">\n",
       "  <thead>\n",
       "    <tr style=\"text-align: right;\">\n",
       "      <th></th>\n",
       "      <th>High</th>\n",
       "      <th>Low</th>\n",
       "      <th>Open</th>\n",
       "      <th>Close</th>\n",
       "      <th>Volume</th>\n",
       "      <th>Adj Close</th>\n",
       "    </tr>\n",
       "    <tr>\n",
       "      <th>Date</th>\n",
       "      <th></th>\n",
       "      <th></th>\n",
       "      <th></th>\n",
       "      <th></th>\n",
       "      <th></th>\n",
       "      <th></th>\n",
       "    </tr>\n",
       "  </thead>\n",
       "  <tbody>\n",
       "    <tr>\n",
       "      <th>2018-02-23</th>\n",
       "      <td>322500.0</td>\n",
       "      <td>307000.0</td>\n",
       "      <td>309000.0</td>\n",
       "      <td>318000.0</td>\n",
       "      <td>976514</td>\n",
       "      <td>318000.0</td>\n",
       "    </tr>\n",
       "    <tr>\n",
       "      <th>2018-02-26</th>\n",
       "      <td>328000.0</td>\n",
       "      <td>320500.0</td>\n",
       "      <td>321000.0</td>\n",
       "      <td>326500.0</td>\n",
       "      <td>827134</td>\n",
       "      <td>326500.0</td>\n",
       "    </tr>\n",
       "    <tr>\n",
       "      <th>2018-02-27</th>\n",
       "      <td>354500.0</td>\n",
       "      <td>330500.0</td>\n",
       "      <td>334000.0</td>\n",
       "      <td>351000.0</td>\n",
       "      <td>2097880</td>\n",
       "      <td>351000.0</td>\n",
       "    </tr>\n",
       "    <tr>\n",
       "      <th>2018-02-28</th>\n",
       "      <td>364500.0</td>\n",
       "      <td>342000.0</td>\n",
       "      <td>342500.0</td>\n",
       "      <td>353000.0</td>\n",
       "      <td>2414626</td>\n",
       "      <td>353000.0</td>\n",
       "    </tr>\n",
       "    <tr>\n",
       "      <th>2018-03-02</th>\n",
       "      <td>372000.0</td>\n",
       "      <td>351000.0</td>\n",
       "      <td>353000.0</td>\n",
       "      <td>372000.0</td>\n",
       "      <td>1964092</td>\n",
       "      <td>372000.0</td>\n",
       "    </tr>\n",
       "  </tbody>\n",
       "</table>\n",
       "</div>"
      ],
      "text/plain": [
       "                High       Low      Open     Close   Volume  Adj Close\n",
       "Date                                                                  \n",
       "2018-02-23  322500.0  307000.0  309000.0  318000.0   976514   318000.0\n",
       "2018-02-26  328000.0  320500.0  321000.0  326500.0   827134   326500.0\n",
       "2018-02-27  354500.0  330500.0  334000.0  351000.0  2097880   351000.0\n",
       "2018-02-28  364500.0  342000.0  342500.0  353000.0  2414626   353000.0\n",
       "2018-03-02  372000.0  351000.0  353000.0  372000.0  1964092   372000.0"
      ]
     },
     "execution_count": 10,
     "metadata": {},
     "output_type": "execute_result"
    }
   ],
   "source": [
    "f.tail()"
   ]
  },
  {
   "cell_type": "code",
   "execution_count": 11,
   "metadata": {},
   "outputs": [
    {
     "data": {
      "text/plain": [
       "High         0\n",
       "Low          0\n",
       "Open         0\n",
       "Close        0\n",
       "Volume       0\n",
       "Adj Close    0\n",
       "dtype: int64"
      ]
     },
     "execution_count": 11,
     "metadata": {},
     "output_type": "execute_result"
    }
   ],
   "source": [
    "f.isnull().sum()"
   ]
  },
  {
   "cell_type": "markdown",
   "metadata": {},
   "source": [
    "#### seaborn 을 이용하면 실제 스타일이 바뀐다"
   ]
  },
  {
   "cell_type": "markdown",
   "metadata": {},
   "source": [
    "!pip install seaborn"
   ]
  },
  {
   "cell_type": "code",
   "execution_count": 12,
   "metadata": {},
   "outputs": [],
   "source": [
    "import seaborn\n",
    "\n",
    "seaborn.set()"
   ]
  },
  {
   "cell_type": "code",
   "execution_count": 13,
   "metadata": {},
   "outputs": [
    {
     "data": {
      "text/plain": [
       "<matplotlib.axes._subplots.AxesSubplot at 0x12a2cd30>"
      ]
     },
     "execution_count": 13,
     "metadata": {},
     "output_type": "execute_result"
    },
    {
     "data": {
      "image/png": "[encoded data removed]",
      "text/plain": [
       "<matplotlib.figure.Figure at 0x11e0d6a0>"
      ]
     },
     "metadata": {},
     "output_type": "display_data"
    }
   ],
   "source": [
    "f.plot()"
   ]
  },
  {
   "cell_type": "code",
   "execution_count": 14,
   "metadata": {},
   "outputs": [
    {
     "data": {
      "text/plain": [
       "Index(['High', 'Low', 'Open', 'Close', 'Volume', 'Adj Close'], dtype='object')"
      ]
     },
     "execution_count": 14,
     "metadata": {},
     "output_type": "execute_result"
    }
   ],
   "source": [
    "f.columns"
   ]
  },
  {
   "cell_type": "code",
   "execution_count": 15,
   "metadata": {},
   "outputs": [
    {
     "data": {
      "text/plain": [
       "DatetimeIndex(['2014-02-19', '2014-02-20', '2014-02-21', '2014-02-24',\n",
       "               '2014-02-25', '2014-02-26', '2014-02-27', '2014-02-28',\n",
       "               '2014-03-03', '2014-03-04',\n",
       "               ...\n",
       "               '2018-02-14', '2018-02-19', '2018-02-20', '2018-02-21',\n",
       "               '2018-02-22', '2018-02-23', '2018-02-26', '2018-02-27',\n",
       "               '2018-02-28', '2018-03-02'],\n",
       "              dtype='datetime64[ns]', name='Date', length=990, freq=None)"
      ]
     },
     "execution_count": 15,
     "metadata": {},
     "output_type": "execute_result"
    }
   ],
   "source": [
    "f.index"
   ]
  },
  {
   "cell_type": "code",
   "execution_count": null,
   "metadata": {},
   "outputs": [],
   "source": []
  },
  {
   "cell_type": "code",
   "execution_count": 16,
   "metadata": {},
   "outputs": [
    {
     "data": {
      "text/plain": [
       "<matplotlib.axes._subplots.AxesSubplot at 0x14be2908>"
      ]
     },
     "execution_count": 16,
     "metadata": {},
     "output_type": "execute_result"
    },
    {
     "data": {
      "image/png": "[encoded data removed]",
      "text/plain": [
       "<matplotlib.figure.Figure at 0x14b0dd30>"
      ]
     },
     "metadata": {},
     "output_type": "display_data"
    }
   ],
   "source": [
    "f.resample('BA').mean().plot()"
   ]
  },
  {
   "cell_type": "code",
   "execution_count": 17,
   "metadata": {},
   "outputs": [
    {
     "data": {
      "text/html": [
       "<div>\n",
       "<style scoped>\n",
       "    .dataframe tbody tr th:only-of-type {\n",
       "        vertical-align: middle;\n",
       "    }\n",
       "\n",
       "    .dataframe tbody tr th {\n",
       "        vertical-align: top;\n",
       "    }\n",
       "\n",
       "    .dataframe thead th {\n",
       "        text-align: right;\n",
       "    }\n",
       "</style>\n",
       "<table border=\"1\" class=\"dataframe\">\n",
       "  <thead>\n",
       "    <tr style=\"text-align: right;\">\n",
       "      <th></th>\n",
       "      <th>High</th>\n",
       "      <th>Low</th>\n",
       "      <th>Open</th>\n",
       "      <th>Close</th>\n",
       "      <th>Volume</th>\n",
       "      <th>Adj Close</th>\n",
       "    </tr>\n",
       "    <tr>\n",
       "      <th>Date</th>\n",
       "      <th></th>\n",
       "      <th></th>\n",
       "      <th></th>\n",
       "      <th></th>\n",
       "      <th></th>\n",
       "      <th></th>\n",
       "    </tr>\n",
       "  </thead>\n",
       "  <tbody>\n",
       "    <tr>\n",
       "      <th>2014-12-31</th>\n",
       "      <td>38812.771879</td>\n",
       "      <td>37584.153646</td>\n",
       "      <td>38155.839981</td>\n",
       "      <td>38072.798599</td>\n",
       "      <td>7.724510e+05</td>\n",
       "      <td>38072.798599</td>\n",
       "    </tr>\n",
       "    <tr>\n",
       "      <th>2015-12-31</th>\n",
       "      <td>67265.862497</td>\n",
       "      <td>64316.740697</td>\n",
       "      <td>65734.068603</td>\n",
       "      <td>65577.208882</td>\n",
       "      <td>1.748285e+06</td>\n",
       "      <td>65577.208882</td>\n",
       "    </tr>\n",
       "    <tr>\n",
       "      <th>2016-12-30</th>\n",
       "      <td>98997.876239</td>\n",
       "      <td>96084.199886</td>\n",
       "      <td>97541.482787</td>\n",
       "      <td>97293.753017</td>\n",
       "      <td>9.296954e+05</td>\n",
       "      <td>97293.753017</td>\n",
       "    </tr>\n",
       "    <tr>\n",
       "      <th>2017-12-29</th>\n",
       "      <td>124659.994489</td>\n",
       "      <td>120693.370332</td>\n",
       "      <td>122603.689607</td>\n",
       "      <td>122603.217713</td>\n",
       "      <td>9.757918e+05</td>\n",
       "      <td>122603.217713</td>\n",
       "    </tr>\n",
       "    <tr>\n",
       "      <th>2018-12-31</th>\n",
       "      <td>313075.609756</td>\n",
       "      <td>291946.341463</td>\n",
       "      <td>300563.414634</td>\n",
       "      <td>303224.390244</td>\n",
       "      <td>2.361683e+06</td>\n",
       "      <td>303224.390244</td>\n",
       "    </tr>\n",
       "  </tbody>\n",
       "</table>\n",
       "</div>"
      ],
      "text/plain": [
       "                     High            Low           Open          Close  \\\n",
       "Date                                                                     \n",
       "2014-12-31   38812.771879   37584.153646   38155.839981   38072.798599   \n",
       "2015-12-31   67265.862497   64316.740697   65734.068603   65577.208882   \n",
       "2016-12-30   98997.876239   96084.199886   97541.482787   97293.753017   \n",
       "2017-12-29  124659.994489  120693.370332  122603.689607  122603.217713   \n",
       "2018-12-31  313075.609756  291946.341463  300563.414634  303224.390244   \n",
       "\n",
       "                  Volume      Adj Close  \n",
       "Date                                     \n",
       "2014-12-31  7.724510e+05   38072.798599  \n",
       "2015-12-31  1.748285e+06   65577.208882  \n",
       "2016-12-30  9.296954e+05   97293.753017  \n",
       "2017-12-29  9.757918e+05  122603.217713  \n",
       "2018-12-31  2.361683e+06  303224.390244  "
      ]
     },
     "execution_count": 17,
     "metadata": {},
     "output_type": "execute_result"
    }
   ],
   "source": [
    "f.resample('BA').mean().head()"
   ]
  },
  {
   "cell_type": "markdown",
   "metadata": {},
   "source": [
    "#### 연도말 데이터만 가져와서 처리"
   ]
  },
  {
   "cell_type": "code",
   "execution_count": 18,
   "metadata": {},
   "outputs": [
    {
     "data": {
      "text/plain": [
       "High          35218.000000\n",
       "Low           34719.398438\n",
       "Open          35127.300781\n",
       "Close         35218.000000\n",
       "Volume       147511.000000\n",
       "Adj Close     35218.000000\n",
       "Name: 2014-12-30 00:00:00, dtype: float64"
      ]
     },
     "execution_count": 18,
     "metadata": {},
     "output_type": "execute_result"
    }
   ],
   "source": [
    "f.loc['2014-12-30']"
   ]
  },
  {
   "cell_type": "code",
   "execution_count": 19,
   "metadata": {},
   "outputs": [
    {
     "data": {
      "text/html": [
       "<div>\n",
       "<style scoped>\n",
       "    .dataframe tbody tr th:only-of-type {\n",
       "        vertical-align: middle;\n",
       "    }\n",
       "\n",
       "    .dataframe tbody tr th {\n",
       "        vertical-align: top;\n",
       "    }\n",
       "\n",
       "    .dataframe thead th {\n",
       "        text-align: right;\n",
       "    }\n",
       "</style>\n",
       "<table border=\"1\" class=\"dataframe\">\n",
       "  <thead>\n",
       "    <tr style=\"text-align: right;\">\n",
       "      <th></th>\n",
       "      <th>High</th>\n",
       "      <th>Low</th>\n",
       "      <th>Open</th>\n",
       "      <th>Close</th>\n",
       "      <th>Volume</th>\n",
       "      <th>Adj Close</th>\n",
       "    </tr>\n",
       "    <tr>\n",
       "      <th>Date</th>\n",
       "      <th></th>\n",
       "      <th></th>\n",
       "      <th></th>\n",
       "      <th></th>\n",
       "      <th></th>\n",
       "      <th></th>\n",
       "    </tr>\n",
       "  </thead>\n",
       "  <tbody>\n",
       "    <tr>\n",
       "      <th>2014-02-28</th>\n",
       "      <td>41440.500000</td>\n",
       "      <td>40793.000000</td>\n",
       "      <td>40965.699219</td>\n",
       "      <td>41397.398438</td>\n",
       "      <td>646716</td>\n",
       "      <td>41397.398438</td>\n",
       "    </tr>\n",
       "    <tr>\n",
       "      <th>2014-03-31</th>\n",
       "      <td>38289.300781</td>\n",
       "      <td>37426.000000</td>\n",
       "      <td>37900.800781</td>\n",
       "      <td>37987.199219</td>\n",
       "      <td>483560</td>\n",
       "      <td>37987.199219</td>\n",
       "    </tr>\n",
       "    <tr>\n",
       "      <th>2014-04-30</th>\n",
       "      <td>42390.199219</td>\n",
       "      <td>40965.699219</td>\n",
       "      <td>41181.500000</td>\n",
       "      <td>41526.898438</td>\n",
       "      <td>632377</td>\n",
       "      <td>41526.898438</td>\n",
       "    </tr>\n",
       "    <tr>\n",
       "      <th>2014-05-30</th>\n",
       "      <td>42174.398438</td>\n",
       "      <td>40447.699219</td>\n",
       "      <td>41095.199219</td>\n",
       "      <td>42001.699219</td>\n",
       "      <td>719117</td>\n",
       "      <td>42001.699219</td>\n",
       "    </tr>\n",
       "    <tr>\n",
       "      <th>2014-06-30</th>\n",
       "      <td>40836.199219</td>\n",
       "      <td>39368.500000</td>\n",
       "      <td>39843.300781</td>\n",
       "      <td>40188.699219</td>\n",
       "      <td>613182</td>\n",
       "      <td>40188.699219</td>\n",
       "    </tr>\n",
       "  </tbody>\n",
       "</table>\n",
       "</div>"
      ],
      "text/plain": [
       "                    High           Low          Open         Close  Volume  \\\n",
       "Date                                                                         \n",
       "2014-02-28  41440.500000  40793.000000  40965.699219  41397.398438  646716   \n",
       "2014-03-31  38289.300781  37426.000000  37900.800781  37987.199219  483560   \n",
       "2014-04-30  42390.199219  40965.699219  41181.500000  41526.898438  632377   \n",
       "2014-05-30  42174.398438  40447.699219  41095.199219  42001.699219  719117   \n",
       "2014-06-30  40836.199219  39368.500000  39843.300781  40188.699219  613182   \n",
       "\n",
       "               Adj Close  \n",
       "Date                      \n",
       "2014-02-28  41397.398438  \n",
       "2014-03-31  37987.199219  \n",
       "2014-04-30  41526.898438  \n",
       "2014-05-30  42001.699219  \n",
       "2014-06-30  40188.699219  "
      ]
     },
     "execution_count": 19,
     "metadata": {},
     "output_type": "execute_result"
    }
   ],
   "source": [
    "f.asfreq('BA', method='ffill').head()"
   ]
  },
  {
   "cell_type": "code",
   "execution_count": 20,
   "metadata": {},
   "outputs": [
    {
     "data": {
      "text/plain": [
       "<matplotlib.axes._subplots.AxesSubplot at 0x14c8fa90>"
      ]
     },
     "execution_count": 20,
     "metadata": {},
     "output_type": "execute_result"
    },
    {
     "data": {
      "image/png": "[encoded data removed]",
      "text/plain": [
       "<matplotlib.figure.Figure at 0x14c5bda0>"
      ]
     },
     "metadata": {},
     "output_type": "display_data"
    }
   ],
   "source": [
    "f.asfreq('BQ',method='ffill')[['Close', 'High', 'Low']].plot()"
   ]
  },
  {
   "cell_type": "code",
   "execution_count": 21,
   "metadata": {},
   "outputs": [
    {
     "data": {
      "text/plain": [
       "<matplotlib.axes._subplots.AxesSubplot at 0x14cf4588>"
      ]
     },
     "execution_count": 21,
     "metadata": {},
     "output_type": "execute_result"
    },
    {
     "data": {
      "image/png": "[encoded data removed]",
      "text/plain": [
       "<matplotlib.figure.Figure at 0x14cff518>"
      ]
     },
     "metadata": {},
     "output_type": "display_data"
    }
   ],
   "source": [
    "f.asfreq('BQ',method='ffill')[['Volume']].plot()"
   ]
  },
  {
   "cell_type": "markdown",
   "metadata": {},
   "source": [
    "### 이동평균 구하기"
   ]
  },
  {
   "cell_type": "code",
   "execution_count": 22,
   "metadata": {},
   "outputs": [],
   "source": [
    "ma20 = f['Close'].rolling(window=20).mean()\n"
   ]
  },
  {
   "cell_type": "code",
   "execution_count": 23,
   "metadata": {},
   "outputs": [
    {
     "data": {
      "text/plain": [
       "Date\n",
       "2014-02-19             NaN\n",
       "2014-02-20             NaN\n",
       "2014-02-21             NaN\n",
       "2014-02-24             NaN\n",
       "2014-02-25             NaN\n",
       "2014-02-26             NaN\n",
       "2014-02-27             NaN\n",
       "2014-02-28             NaN\n",
       "2014-03-03             NaN\n",
       "2014-03-04             NaN\n",
       "2014-03-05             NaN\n",
       "2014-03-06             NaN\n",
       "2014-03-07             NaN\n",
       "2014-03-10             NaN\n",
       "2014-03-11             NaN\n",
       "2014-03-12             NaN\n",
       "2014-03-13             NaN\n",
       "2014-03-14             NaN\n",
       "2014-03-17             NaN\n",
       "2014-03-18    39595.134766\n",
       "Name: Close, dtype: float64"
      ]
     },
     "execution_count": 23,
     "metadata": {},
     "output_type": "execute_result"
    }
   ],
   "source": [
    "ma20.head(20)"
   ]
  },
  {
   "cell_type": "markdown",
   "metadata": {},
   "source": [
    "#### 이동평균을 구하기 "
   ]
  },
  {
   "cell_type": "code",
   "execution_count": 24,
   "metadata": {},
   "outputs": [],
   "source": [
    "ma60 = f['Close'].rolling(window=60).mean()"
   ]
  },
  {
   "cell_type": "code",
   "execution_count": 25,
   "metadata": {},
   "outputs": [],
   "source": [
    "ma120 = f['Close'].rolling(window=120).mean()"
   ]
  },
  {
   "cell_type": "markdown",
   "metadata": {},
   "source": [
    "#### 기존 데이터에 넣기"
   ]
  },
  {
   "cell_type": "code",
   "execution_count": 26,
   "metadata": {},
   "outputs": [],
   "source": [
    "f.insert(len(f.columns), \"MA20\", ma20)"
   ]
  },
  {
   "cell_type": "code",
   "execution_count": 27,
   "metadata": {},
   "outputs": [
    {
     "data": {
      "text/html": [
       "<div>\n",
       "<style scoped>\n",
       "    .dataframe tbody tr th:only-of-type {\n",
       "        vertical-align: middle;\n",
       "    }\n",
       "\n",
       "    .dataframe tbody tr th {\n",
       "        vertical-align: top;\n",
       "    }\n",
       "\n",
       "    .dataframe thead th {\n",
       "        text-align: right;\n",
       "    }\n",
       "</style>\n",
       "<table border=\"1\" class=\"dataframe\">\n",
       "  <thead>\n",
       "    <tr style=\"text-align: right;\">\n",
       "      <th></th>\n",
       "      <th>High</th>\n",
       "      <th>Low</th>\n",
       "      <th>Open</th>\n",
       "      <th>Close</th>\n",
       "      <th>Volume</th>\n",
       "      <th>Adj Close</th>\n",
       "      <th>MA20</th>\n",
       "    </tr>\n",
       "    <tr>\n",
       "      <th>Date</th>\n",
       "      <th></th>\n",
       "      <th></th>\n",
       "      <th></th>\n",
       "      <th></th>\n",
       "      <th></th>\n",
       "      <th></th>\n",
       "      <th></th>\n",
       "    </tr>\n",
       "  </thead>\n",
       "  <tbody>\n",
       "    <tr>\n",
       "      <th>2014-02-19</th>\n",
       "      <td>42217.500000</td>\n",
       "      <td>38505.199219</td>\n",
       "      <td>39023.199219</td>\n",
       "      <td>41311.000000</td>\n",
       "      <td>3509017</td>\n",
       "      <td>41311.000000</td>\n",
       "      <td>NaN</td>\n",
       "    </tr>\n",
       "    <tr>\n",
       "      <th>2014-02-20</th>\n",
       "      <td>41699.500000</td>\n",
       "      <td>39843.300781</td>\n",
       "      <td>41570.000000</td>\n",
       "      <td>40145.500000</td>\n",
       "      <td>1413760</td>\n",
       "      <td>40145.500000</td>\n",
       "      <td>NaN</td>\n",
       "    </tr>\n",
       "    <tr>\n",
       "      <th>2014-02-21</th>\n",
       "      <td>41267.898438</td>\n",
       "      <td>39972.800781</td>\n",
       "      <td>40490.898438</td>\n",
       "      <td>40620.398438</td>\n",
       "      <td>793916</td>\n",
       "      <td>40620.398438</td>\n",
       "      <td>NaN</td>\n",
       "    </tr>\n",
       "  </tbody>\n",
       "</table>\n",
       "</div>"
      ],
      "text/plain": [
       "                    High           Low          Open         Close   Volume  \\\n",
       "Date                                                                          \n",
       "2014-02-19  42217.500000  38505.199219  39023.199219  41311.000000  3509017   \n",
       "2014-02-20  41699.500000  39843.300781  41570.000000  40145.500000  1413760   \n",
       "2014-02-21  41267.898438  39972.800781  40490.898438  40620.398438   793916   \n",
       "\n",
       "               Adj Close  MA20  \n",
       "Date                            \n",
       "2014-02-19  41311.000000   NaN  \n",
       "2014-02-20  40145.500000   NaN  \n",
       "2014-02-21  40620.398438   NaN  "
      ]
     },
     "execution_count": 27,
     "metadata": {},
     "output_type": "execute_result"
    }
   ],
   "source": [
    "f.head(3)"
   ]
  },
  {
   "cell_type": "code",
   "execution_count": 28,
   "metadata": {},
   "outputs": [],
   "source": [
    "f.insert(len(f.columns), \"MA60\", ma60)"
   ]
  },
  {
   "cell_type": "code",
   "execution_count": 29,
   "metadata": {},
   "outputs": [
    {
     "data": {
      "text/html": [
       "<div>\n",
       "<style scoped>\n",
       "    .dataframe tbody tr th:only-of-type {\n",
       "        vertical-align: middle;\n",
       "    }\n",
       "\n",
       "    .dataframe tbody tr th {\n",
       "        vertical-align: top;\n",
       "    }\n",
       "\n",
       "    .dataframe thead th {\n",
       "        text-align: right;\n",
       "    }\n",
       "</style>\n",
       "<table border=\"1\" class=\"dataframe\">\n",
       "  <thead>\n",
       "    <tr style=\"text-align: right;\">\n",
       "      <th></th>\n",
       "      <th>High</th>\n",
       "      <th>Low</th>\n",
       "      <th>Open</th>\n",
       "      <th>Close</th>\n",
       "      <th>Volume</th>\n",
       "      <th>Adj Close</th>\n",
       "      <th>MA20</th>\n",
       "      <th>MA60</th>\n",
       "    </tr>\n",
       "    <tr>\n",
       "      <th>Date</th>\n",
       "      <th></th>\n",
       "      <th></th>\n",
       "      <th></th>\n",
       "      <th></th>\n",
       "      <th></th>\n",
       "      <th></th>\n",
       "      <th></th>\n",
       "      <th></th>\n",
       "    </tr>\n",
       "  </thead>\n",
       "  <tbody>\n",
       "    <tr>\n",
       "      <th>2014-02-19</th>\n",
       "      <td>42217.500000</td>\n",
       "      <td>38505.199219</td>\n",
       "      <td>39023.199219</td>\n",
       "      <td>41311.000000</td>\n",
       "      <td>3509017</td>\n",
       "      <td>41311.000000</td>\n",
       "      <td>NaN</td>\n",
       "      <td>NaN</td>\n",
       "    </tr>\n",
       "    <tr>\n",
       "      <th>2014-02-20</th>\n",
       "      <td>41699.500000</td>\n",
       "      <td>39843.300781</td>\n",
       "      <td>41570.000000</td>\n",
       "      <td>40145.500000</td>\n",
       "      <td>1413760</td>\n",
       "      <td>40145.500000</td>\n",
       "      <td>NaN</td>\n",
       "      <td>NaN</td>\n",
       "    </tr>\n",
       "    <tr>\n",
       "      <th>2014-02-21</th>\n",
       "      <td>41267.898438</td>\n",
       "      <td>39972.800781</td>\n",
       "      <td>40490.898438</td>\n",
       "      <td>40620.398438</td>\n",
       "      <td>793916</td>\n",
       "      <td>40620.398438</td>\n",
       "      <td>NaN</td>\n",
       "      <td>NaN</td>\n",
       "    </tr>\n",
       "  </tbody>\n",
       "</table>\n",
       "</div>"
      ],
      "text/plain": [
       "                    High           Low          Open         Close   Volume  \\\n",
       "Date                                                                          \n",
       "2014-02-19  42217.500000  38505.199219  39023.199219  41311.000000  3509017   \n",
       "2014-02-20  41699.500000  39843.300781  41570.000000  40145.500000  1413760   \n",
       "2014-02-21  41267.898438  39972.800781  40490.898438  40620.398438   793916   \n",
       "\n",
       "               Adj Close  MA20  MA60  \n",
       "Date                                  \n",
       "2014-02-19  41311.000000   NaN   NaN  \n",
       "2014-02-20  40145.500000   NaN   NaN  \n",
       "2014-02-21  40620.398438   NaN   NaN  "
      ]
     },
     "execution_count": 29,
     "metadata": {},
     "output_type": "execute_result"
    }
   ],
   "source": [
    "f.head(3)"
   ]
  },
  {
   "cell_type": "code",
   "execution_count": 30,
   "metadata": {},
   "outputs": [],
   "source": [
    "f.insert(len(f.columns), \"MA120\", ma120)"
   ]
  },
  {
   "cell_type": "code",
   "execution_count": 31,
   "metadata": {},
   "outputs": [
    {
     "data": {
      "text/html": [
       "<div>\n",
       "<style scoped>\n",
       "    .dataframe tbody tr th:only-of-type {\n",
       "        vertical-align: middle;\n",
       "    }\n",
       "\n",
       "    .dataframe tbody tr th {\n",
       "        vertical-align: top;\n",
       "    }\n",
       "\n",
       "    .dataframe thead th {\n",
       "        text-align: right;\n",
       "    }\n",
       "</style>\n",
       "<table border=\"1\" class=\"dataframe\">\n",
       "  <thead>\n",
       "    <tr style=\"text-align: right;\">\n",
       "      <th></th>\n",
       "      <th>High</th>\n",
       "      <th>Low</th>\n",
       "      <th>Open</th>\n",
       "      <th>Close</th>\n",
       "      <th>Volume</th>\n",
       "      <th>Adj Close</th>\n",
       "      <th>MA20</th>\n",
       "      <th>MA60</th>\n",
       "      <th>MA120</th>\n",
       "    </tr>\n",
       "    <tr>\n",
       "      <th>Date</th>\n",
       "      <th></th>\n",
       "      <th></th>\n",
       "      <th></th>\n",
       "      <th></th>\n",
       "      <th></th>\n",
       "      <th></th>\n",
       "      <th></th>\n",
       "      <th></th>\n",
       "      <th></th>\n",
       "    </tr>\n",
       "  </thead>\n",
       "  <tbody>\n",
       "    <tr>\n",
       "      <th>2014-02-19</th>\n",
       "      <td>42217.500000</td>\n",
       "      <td>38505.199219</td>\n",
       "      <td>39023.199219</td>\n",
       "      <td>41311.000000</td>\n",
       "      <td>3509017</td>\n",
       "      <td>41311.000000</td>\n",
       "      <td>NaN</td>\n",
       "      <td>NaN</td>\n",
       "      <td>NaN</td>\n",
       "    </tr>\n",
       "    <tr>\n",
       "      <th>2014-02-20</th>\n",
       "      <td>41699.500000</td>\n",
       "      <td>39843.300781</td>\n",
       "      <td>41570.000000</td>\n",
       "      <td>40145.500000</td>\n",
       "      <td>1413760</td>\n",
       "      <td>40145.500000</td>\n",
       "      <td>NaN</td>\n",
       "      <td>NaN</td>\n",
       "      <td>NaN</td>\n",
       "    </tr>\n",
       "    <tr>\n",
       "      <th>2014-02-21</th>\n",
       "      <td>41267.898438</td>\n",
       "      <td>39972.800781</td>\n",
       "      <td>40490.898438</td>\n",
       "      <td>40620.398438</td>\n",
       "      <td>793916</td>\n",
       "      <td>40620.398438</td>\n",
       "      <td>NaN</td>\n",
       "      <td>NaN</td>\n",
       "      <td>NaN</td>\n",
       "    </tr>\n",
       "  </tbody>\n",
       "</table>\n",
       "</div>"
      ],
      "text/plain": [
       "                    High           Low          Open         Close   Volume  \\\n",
       "Date                                                                          \n",
       "2014-02-19  42217.500000  38505.199219  39023.199219  41311.000000  3509017   \n",
       "2014-02-20  41699.500000  39843.300781  41570.000000  40145.500000  1413760   \n",
       "2014-02-21  41267.898438  39972.800781  40490.898438  40620.398438   793916   \n",
       "\n",
       "               Adj Close  MA20  MA60  MA120  \n",
       "Date                                         \n",
       "2014-02-19  41311.000000   NaN   NaN    NaN  \n",
       "2014-02-20  40145.500000   NaN   NaN    NaN  \n",
       "2014-02-21  40620.398438   NaN   NaN    NaN  "
      ]
     },
     "execution_count": 31,
     "metadata": {},
     "output_type": "execute_result"
    }
   ],
   "source": [
    "f.head(3)"
   ]
  },
  {
   "cell_type": "markdown",
   "metadata": {},
   "source": [
    "###  평균 이동선 그래프 그리기"
   ]
  },
  {
   "cell_type": "code",
   "execution_count": 32,
   "metadata": {},
   "outputs": [
    {
     "data": {
      "text/plain": [
       "<matplotlib.axes._subplots.AxesSubplot at 0x14d750f0>"
      ]
     },
     "execution_count": 32,
     "metadata": {},
     "output_type": "execute_result"
    },
    {
     "data": {
      "image/png": "[encoded data removed]",
      "text/plain": [
       "<matplotlib.figure.Figure at 0x14cac5c0>"
      ]
     },
     "metadata": {},
     "output_type": "display_data"
    }
   ],
   "source": [
    "f[['MA20','MA60','MA120']].plot()"
   ]
  },
  {
   "cell_type": "code",
   "execution_count": null,
   "metadata": {},
   "outputs": [],
   "source": []
  }
 ],
 "metadata": {
  "kernelspec": {
   "display_name": "Python 3",
   "language": "python",
   "name": "python3"
  },
  "language_info": {
   "codemirror_mode": {
    "name": "ipython",
    "version": 3
   },
   "file_extension": ".py",
   "mimetype": "text/x-python",
   "name": "python",
   "nbconvert_exporter": "python",
   "pygments_lexer": "ipython3",
   "version": "3.6.6"
  }
 },
 "nbformat": 4,
 "nbformat_minor": 2
}
