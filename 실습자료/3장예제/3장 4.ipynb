{
 "cells": [
  {
   "cell_type": "code",
   "execution_count": 3,
   "metadata": {},
   "outputs": [],
   "source": [
    "import pandas as pd"
   ]
  },
  {
   "cell_type": "markdown",
   "metadata": {},
   "source": [
    "## 예제 3-18 파일을 읽어서 범주형 자료형으로 변경처리"
   ]
  },
  {
   "cell_type": "code",
   "execution_count": 28,
   "metadata": {},
   "outputs": [],
   "source": [
    "airplane = pd.read_csv('../data/airplane_info.csv',encoding='cp949')"
   ]
  },
  {
   "cell_type": "code",
   "execution_count": 29,
   "metadata": {},
   "outputs": [
    {
     "data": {
      "text/html": [
       "<div>\n",
       "<style scoped>\n",
       "    .dataframe tbody tr th:only-of-type {\n",
       "        vertical-align: middle;\n",
       "    }\n",
       "\n",
       "    .dataframe tbody tr th {\n",
       "        vertical-align: top;\n",
       "    }\n",
       "\n",
       "    .dataframe thead th {\n",
       "        text-align: right;\n",
       "    }\n",
       "</style>\n",
       "<table border=\"1\" class=\"dataframe\">\n",
       "  <thead>\n",
       "    <tr style=\"text-align: right;\">\n",
       "      <th></th>\n",
       "      <th>기체번호</th>\n",
       "      <th>항공사</th>\n",
       "      <th>기종</th>\n",
       "      <th>정원_F</th>\n",
       "      <th>정원_C</th>\n",
       "      <th>정원_W</th>\n",
       "      <th>정원_Y</th>\n",
       "      <th>총정원</th>\n",
       "    </tr>\n",
       "  </thead>\n",
       "  <tbody>\n",
       "    <tr>\n",
       "      <th>0</th>\n",
       "      <td>VP-BDK</td>\n",
       "      <td>Aeroflot</td>\n",
       "      <td>A320-214</td>\n",
       "      <td>0</td>\n",
       "      <td>20</td>\n",
       "      <td>0</td>\n",
       "      <td>120</td>\n",
       "      <td>140.0</td>\n",
       "    </tr>\n",
       "    <tr>\n",
       "      <th>1</th>\n",
       "      <td>VP-BWD</td>\n",
       "      <td>Aeroflot</td>\n",
       "      <td>A320-214</td>\n",
       "      <td>0</td>\n",
       "      <td>20</td>\n",
       "      <td>0</td>\n",
       "      <td>120</td>\n",
       "      <td>140.0</td>\n",
       "    </tr>\n",
       "    <tr>\n",
       "      <th>2</th>\n",
       "      <td>VP-BWE</td>\n",
       "      <td>Aeroflot</td>\n",
       "      <td>A320-214</td>\n",
       "      <td>0</td>\n",
       "      <td>20</td>\n",
       "      <td>0</td>\n",
       "      <td>120</td>\n",
       "      <td>140.0</td>\n",
       "    </tr>\n",
       "    <tr>\n",
       "      <th>3</th>\n",
       "      <td>VP-BWF</td>\n",
       "      <td>Aeroflot</td>\n",
       "      <td>A320-214</td>\n",
       "      <td>0</td>\n",
       "      <td>20</td>\n",
       "      <td>0</td>\n",
       "      <td>120</td>\n",
       "      <td>140.0</td>\n",
       "    </tr>\n",
       "    <tr>\n",
       "      <th>4</th>\n",
       "      <td>VP-BRZ</td>\n",
       "      <td>Aeroflot</td>\n",
       "      <td>A320-214</td>\n",
       "      <td>0</td>\n",
       "      <td>20</td>\n",
       "      <td>0</td>\n",
       "      <td>120</td>\n",
       "      <td>140.0</td>\n",
       "    </tr>\n",
       "  </tbody>\n",
       "</table>\n",
       "</div>"
      ],
      "text/plain": [
       "     기체번호       항공사        기종  정원_F  정원_C  정원_W  정원_Y    총정원\n",
       "0  VP-BDK  Aeroflot  A320-214     0    20     0   120  140.0\n",
       "1  VP-BWD  Aeroflot  A320-214     0    20     0   120  140.0\n",
       "2  VP-BWE  Aeroflot  A320-214     0    20     0   120  140.0\n",
       "3  VP-BWF  Aeroflot  A320-214     0    20     0   120  140.0\n",
       "4  VP-BRZ  Aeroflot  A320-214     0    20     0   120  140.0"
      ]
     },
     "execution_count": 29,
     "metadata": {},
     "output_type": "execute_result"
    }
   ],
   "source": [
    "airplane.head()"
   ]
  },
  {
   "cell_type": "code",
   "execution_count": 30,
   "metadata": {},
   "outputs": [
    {
     "data": {
      "text/plain": [
       "dtype('O')"
      ]
     },
     "execution_count": 30,
     "metadata": {},
     "output_type": "execute_result"
    }
   ],
   "source": [
    "airplane['항공사'].dtype"
   ]
  },
  {
   "cell_type": "code",
   "execution_count": 31,
   "metadata": {},
   "outputs": [],
   "source": [
    "air_cat = pd.Categorical(airplane['항공사'])"
   ]
  },
  {
   "cell_type": "code",
   "execution_count": 32,
   "metadata": {},
   "outputs": [
    {
     "data": {
      "text/plain": [
       "Index(['AZAL Azerbaijan Airlines', 'Aeroflot', 'Air Arabia', 'Air Astana',\n",
       "       'Air Baltic', 'Air China', 'Air Kyrgyzstan', 'Air Manas',\n",
       "       'Airzena Georgian Airways', 'Asiana Airlines', 'AtlasGlobal',\n",
       "       'Avia Traffic Company', 'Belavia', 'China Southern Airlines',\n",
       "       'Ellinair', 'Etihad Airways', 'Finnair', 'Globus Airlines',\n",
       "       'Hainan Airlines', 'Iran Aseman Airlines', 'KLM Royal Dutch Airlines',\n",
       "       'Kam Air', 'Korean Air', 'LOT - Polish Airlines', 'Lufthansa',\n",
       "       'MIAT - Monglian Airlines', 'Mahan Air', 'NordStar', 'Pegas Fly',\n",
       "       'Pegasus Airlines', 'Pobeda', 'Red Wings', 'Rusline', 'S7 Airlines',\n",
       "       'SCAT', 'Somon Air', 'Sunday Airlines', 'Tajik Air', 'Turkish Airlines',\n",
       "       'Turkmenistan Airlines', 'Ukraine International Airlines',\n",
       "       'Ural Airlines', 'Urumqi Air', 'Utair', 'Uzbekistan Airways',\n",
       "       'VIM Airlines', 'Wizz Air', 'Yakutia Airlines', 'Yamal Airlines',\n",
       "       'flydubai'],\n",
       "      dtype='object')"
      ]
     },
     "execution_count": 32,
     "metadata": {},
     "output_type": "execute_result"
    }
   ],
   "source": [
    "air_cat.categories"
   ]
  },
  {
   "cell_type": "code",
   "execution_count": 33,
   "metadata": {},
   "outputs": [
    {
     "data": {
      "text/plain": [
       "[Aeroflot, Aeroflot, Aeroflot, Aeroflot, Aeroflot, ..., Red Wings, Red Wings, Red Wings, Red Wings, Red Wings]\n",
       "Length: 2178\n",
       "Categories (50, object): [AZAL Azerbaijan Airlines, Aeroflot, Air Arabia, Air Astana, ..., Wizz Air, Yakutia Airlines, Yamal Airlines, flydubai]"
      ]
     },
     "execution_count": 33,
     "metadata": {},
     "output_type": "execute_result"
    }
   ],
   "source": [
    "air_cat"
   ]
  },
  {
   "cell_type": "code",
   "execution_count": 34,
   "metadata": {},
   "outputs": [
    {
     "data": {
      "text/plain": [
       "(2178,)"
      ]
     },
     "execution_count": 34,
     "metadata": {},
     "output_type": "execute_result"
    }
   ],
   "source": [
    "air_cat.shape"
   ]
  },
  {
   "cell_type": "code",
   "execution_count": 35,
   "metadata": {},
   "outputs": [
    {
     "data": {
      "text/plain": [
       "dtype('O')"
      ]
     },
     "execution_count": 35,
     "metadata": {},
     "output_type": "execute_result"
    }
   ],
   "source": [
    "airplane['항공사'].dtype"
   ]
  },
  {
   "cell_type": "code",
   "execution_count": 36,
   "metadata": {},
   "outputs": [],
   "source": [
    "airplane['항공사'] = airplane['항공사'].astype(air_cat)"
   ]
  },
  {
   "cell_type": "code",
   "execution_count": 37,
   "metadata": {},
   "outputs": [
    {
     "data": {
      "text/plain": [
       "CategoricalDtype(categories=['AZAL Azerbaijan Airlines', 'Aeroflot', 'Air Arabia',\n",
       "                  'Air Astana', 'Air Baltic', 'Air China', 'Air Kyrgyzstan',\n",
       "                  'Air Manas', 'Airzena Georgian Airways', 'Asiana Airlines',\n",
       "                  'AtlasGlobal', 'Avia Traffic Company', 'Belavia',\n",
       "                  'China Southern Airlines', 'Ellinair', 'Etihad Airways',\n",
       "                  'Finnair', 'Globus Airlines', 'Hainan Airlines',\n",
       "                  'Iran Aseman Airlines', 'KLM Royal Dutch Airlines',\n",
       "                  'Kam Air', 'Korean Air', 'LOT - Polish Airlines',\n",
       "                  'Lufthansa', 'MIAT - Monglian Airlines', 'Mahan Air',\n",
       "                  'NordStar', 'Pegas Fly', 'Pegasus Airlines', 'Pobeda',\n",
       "                  'Red Wings', 'Rusline', 'S7 Airlines', 'SCAT', 'Somon Air',\n",
       "                  'Sunday Airlines', 'Tajik Air', 'Turkish Airlines',\n",
       "                  'Turkmenistan Airlines', 'Ukraine International Airlines',\n",
       "                  'Ural Airlines', 'Urumqi Air', 'Utair', 'Uzbekistan Airways',\n",
       "                  'VIM Airlines', 'Wizz Air', 'Yakutia Airlines',\n",
       "                  'Yamal Airlines', 'flydubai'],\n",
       "                 ordered=False)"
      ]
     },
     "execution_count": 37,
     "metadata": {},
     "output_type": "execute_result"
    }
   ],
   "source": [
    "airplane['항공사'].dtype"
   ]
  },
  {
   "cell_type": "code",
   "execution_count": 39,
   "metadata": {},
   "outputs": [
    {
     "name": "stdout",
     "output_type": "stream",
     "text": [
      "Cannot setitem on a Categorical with a new category, set the categories first\n"
     ]
    }
   ],
   "source": [
    "try :\n",
    "    airplane['항공사'][0] = \"Asia Airline\"\n",
    "except Exception as e :\n",
    "    print(e)"
   ]
  },
  {
   "cell_type": "code",
   "execution_count": 40,
   "metadata": {},
   "outputs": [
    {
     "data": {
      "text/plain": [
       "기체번호     0\n",
       "항공사      0\n",
       "기종       0\n",
       "정원_F     0\n",
       "정원_C     0\n",
       "정원_W     0\n",
       "정원_Y     0\n",
       "총정원     71\n",
       "dtype: int64"
      ]
     },
     "execution_count": 40,
     "metadata": {},
     "output_type": "execute_result"
    }
   ],
   "source": [
    "airplane.isnull().sum()"
   ]
  },
  {
   "cell_type": "code",
   "execution_count": 41,
   "metadata": {},
   "outputs": [
    {
     "data": {
      "text/plain": [
       "Index(['기체번호', '항공사', '기종', '정원_F', '정원_C', '정원_W', '정원_Y', '총정원'], dtype='object')"
      ]
     },
     "execution_count": 41,
     "metadata": {},
     "output_type": "execute_result"
    }
   ],
   "source": [
    "airplane.columns"
   ]
  },
  {
   "cell_type": "code",
   "execution_count": 42,
   "metadata": {},
   "outputs": [
    {
     "data": {
      "text/plain": [
       "71"
      ]
     },
     "execution_count": 42,
     "metadata": {},
     "output_type": "execute_result"
    }
   ],
   "source": [
    "airplane['총정원'].isnull().sum()"
   ]
  },
  {
   "cell_type": "code",
   "execution_count": 43,
   "metadata": {},
   "outputs": [],
   "source": [
    "airplane.loc[airplane['총정원'].isnull(), '총정원']  = airplane.loc[airplane['총정원'].isnull(), '정원_Y']"
   ]
  },
  {
   "cell_type": "code",
   "execution_count": 18,
   "metadata": {},
   "outputs": [
    {
     "data": {
      "text/plain": [
       "기체번호    0\n",
       "항공사     0\n",
       "기종      0\n",
       "정원_F    0\n",
       "정원_C    0\n",
       "정원_W    0\n",
       "정원_Y    0\n",
       "총정원     0\n",
       "dtype: int64"
      ]
     },
     "execution_count": 18,
     "metadata": {},
     "output_type": "execute_result"
    }
   ],
   "source": [
    "airplane.isnull().sum()"
   ]
  },
  {
   "cell_type": "code",
   "execution_count": 19,
   "metadata": {},
   "outputs": [
    {
     "data": {
      "text/plain": [
       "235"
      ]
     },
     "execution_count": 19,
     "metadata": {},
     "output_type": "execute_result"
    }
   ],
   "source": [
    "airplane['총정원'].between(1,120).sum()"
   ]
  },
  {
   "cell_type": "code",
   "execution_count": 20,
   "metadata": {},
   "outputs": [],
   "source": [
    "mask = airplane['총정원'].between(1,120)"
   ]
  },
  {
   "cell_type": "code",
   "execution_count": 22,
   "metadata": {},
   "outputs": [],
   "source": [
    "import numpy as np"
   ]
  },
  {
   "cell_type": "code",
   "execution_count": 44,
   "metadata": {},
   "outputs": [],
   "source": [
    "airplane['category_R'] = \"\""
   ]
  },
  {
   "cell_type": "code",
   "execution_count": 45,
   "metadata": {},
   "outputs": [],
   "source": [
    "airplane['category_R']  = pd.Categorical(np.where(mask, '소형', '중형'))"
   ]
  },
  {
   "cell_type": "code",
   "execution_count": 46,
   "metadata": {},
   "outputs": [
    {
     "data": {
      "text/html": [
       "<div>\n",
       "<style scoped>\n",
       "    .dataframe tbody tr th:only-of-type {\n",
       "        vertical-align: middle;\n",
       "    }\n",
       "\n",
       "    .dataframe tbody tr th {\n",
       "        vertical-align: top;\n",
       "    }\n",
       "\n",
       "    .dataframe thead th {\n",
       "        text-align: right;\n",
       "    }\n",
       "</style>\n",
       "<table border=\"1\" class=\"dataframe\">\n",
       "  <thead>\n",
       "    <tr style=\"text-align: right;\">\n",
       "      <th></th>\n",
       "      <th>기체번호</th>\n",
       "      <th>항공사</th>\n",
       "      <th>기종</th>\n",
       "      <th>정원_F</th>\n",
       "      <th>정원_C</th>\n",
       "      <th>정원_W</th>\n",
       "      <th>정원_Y</th>\n",
       "      <th>총정원</th>\n",
       "      <th>category_R</th>\n",
       "    </tr>\n",
       "  </thead>\n",
       "  <tbody>\n",
       "    <tr>\n",
       "      <th>0</th>\n",
       "      <td>VP-BDK</td>\n",
       "      <td>Aeroflot</td>\n",
       "      <td>A320-214</td>\n",
       "      <td>0</td>\n",
       "      <td>20</td>\n",
       "      <td>0</td>\n",
       "      <td>120</td>\n",
       "      <td>140.0</td>\n",
       "      <td>중형</td>\n",
       "    </tr>\n",
       "    <tr>\n",
       "      <th>1</th>\n",
       "      <td>VP-BWD</td>\n",
       "      <td>Aeroflot</td>\n",
       "      <td>A320-214</td>\n",
       "      <td>0</td>\n",
       "      <td>20</td>\n",
       "      <td>0</td>\n",
       "      <td>120</td>\n",
       "      <td>140.0</td>\n",
       "      <td>중형</td>\n",
       "    </tr>\n",
       "    <tr>\n",
       "      <th>2</th>\n",
       "      <td>VP-BWE</td>\n",
       "      <td>Aeroflot</td>\n",
       "      <td>A320-214</td>\n",
       "      <td>0</td>\n",
       "      <td>20</td>\n",
       "      <td>0</td>\n",
       "      <td>120</td>\n",
       "      <td>140.0</td>\n",
       "      <td>중형</td>\n",
       "    </tr>\n",
       "    <tr>\n",
       "      <th>3</th>\n",
       "      <td>VP-BWF</td>\n",
       "      <td>Aeroflot</td>\n",
       "      <td>A320-214</td>\n",
       "      <td>0</td>\n",
       "      <td>20</td>\n",
       "      <td>0</td>\n",
       "      <td>120</td>\n",
       "      <td>140.0</td>\n",
       "      <td>중형</td>\n",
       "    </tr>\n",
       "    <tr>\n",
       "      <th>4</th>\n",
       "      <td>VP-BRZ</td>\n",
       "      <td>Aeroflot</td>\n",
       "      <td>A320-214</td>\n",
       "      <td>0</td>\n",
       "      <td>20</td>\n",
       "      <td>0</td>\n",
       "      <td>120</td>\n",
       "      <td>140.0</td>\n",
       "      <td>중형</td>\n",
       "    </tr>\n",
       "  </tbody>\n",
       "</table>\n",
       "</div>"
      ],
      "text/plain": [
       "     기체번호       항공사        기종  정원_F  정원_C  정원_W  정원_Y    총정원 category_R\n",
       "0  VP-BDK  Aeroflot  A320-214     0    20     0   120  140.0         중형\n",
       "1  VP-BWD  Aeroflot  A320-214     0    20     0   120  140.0         중형\n",
       "2  VP-BWE  Aeroflot  A320-214     0    20     0   120  140.0         중형\n",
       "3  VP-BWF  Aeroflot  A320-214     0    20     0   120  140.0         중형\n",
       "4  VP-BRZ  Aeroflot  A320-214     0    20     0   120  140.0         중형"
      ]
     },
     "execution_count": 46,
     "metadata": {},
     "output_type": "execute_result"
    }
   ],
   "source": [
    "airplane.head()"
   ]
  },
  {
   "cell_type": "code",
   "execution_count": null,
   "metadata": {},
   "outputs": [],
   "source": []
  },
  {
   "cell_type": "code",
   "execution_count": 47,
   "metadata": {},
   "outputs": [
    {
     "data": {
      "text/plain": [
       "중형    1943\n",
       "소형     235\n",
       "Name: category_R, dtype: int64"
      ]
     },
     "execution_count": 47,
     "metadata": {},
     "output_type": "execute_result"
    }
   ],
   "source": [
    "airplane['category_R'].value_counts()"
   ]
  },
  {
   "cell_type": "code",
   "execution_count": 48,
   "metadata": {},
   "outputs": [
    {
     "data": {
      "text/plain": [
       "CategoricalDtype(categories=['소형', '중형'], ordered=False)"
      ]
     },
     "execution_count": 48,
     "metadata": {},
     "output_type": "execute_result"
    }
   ],
   "source": [
    "airplane['category_R'].dtype"
   ]
  },
  {
   "cell_type": "code",
   "execution_count": null,
   "metadata": {},
   "outputs": [],
   "source": []
  },
  {
   "cell_type": "code",
   "execution_count": 50,
   "metadata": {},
   "outputs": [
    {
     "data": {
      "text/plain": [
       "array([0., 0., 0., ..., 0., 0., 0.])"
      ]
     },
     "execution_count": 50,
     "metadata": {},
     "output_type": "execute_result"
    }
   ],
   "source": [
    "np.zeros(10000*10000)"
   ]
  },
  {
   "cell_type": "code",
   "execution_count": null,
   "metadata": {},
   "outputs": [],
   "source": []
  }
 ],
 "metadata": {
  "kernelspec": {
   "display_name": "Python 3",
   "language": "python",
   "name": "python3"
  },
  "language_info": {
   "codemirror_mode": {
    "name": "ipython",
    "version": 3
   },
   "file_extension": ".py",
   "mimetype": "text/x-python",
   "name": "python",
   "nbconvert_exporter": "python",
   "pygments_lexer": "ipython3",
   "version": "3.6.6"
  }
 },
 "nbformat": 4,
 "nbformat_minor": 2
}
