{
 "cells": [
  {
   "cell_type": "code",
   "execution_count": 1,
   "metadata": {},
   "outputs": [],
   "source": [
    "import pandas as pd"
   ]
  },
  {
   "cell_type": "markdown",
   "metadata": {},
   "source": [
    "## 예제 2-3 시리즈와 데이터프레임의 다양한 멤버 확인하기"
   ]
  },
  {
   "cell_type": "code",
   "execution_count": 18,
   "metadata": {},
   "outputs": [],
   "source": [
    "s = set([ i for i in dir(pd.Series) if not i.startswith(\"_\")])"
   ]
  },
  {
   "cell_type": "code",
   "execution_count": 19,
   "metadata": {},
   "outputs": [],
   "source": [
    "d = set([ i for i in dir(pd.DataFrame) if not i.startswith(\"_\")])"
   ]
  },
  {
   "cell_type": "code",
   "execution_count": 20,
   "metadata": {},
   "outputs": [
    {
     "name": "stdout",
     "output_type": "stream",
     "text": [
      "base,  flags,  value_counts,  itemsize,  \n",
      "searchsorted,  argsort,  nonzero,  cat,  \n",
      "real,  is_monotonic_decreasing,  is_unique,  ptp,  \n",
      "unique,  hasnans,  repeat,  is_monotonic_increasing,  \n",
      "name,  data,  dtype,  argmax,  \n",
      "dt,  ftype,  item,  valid,  \n",
      "imag,  between,  strides,  reshape,  \n",
      "asobject,  map,  factorize,  nbytes,  \n",
      "to_frame,  is_monotonic,  ravel,  put,  \n",
      "str,  from_array,  tolist,  argmin,  \n",
      "compress,  view,  autocorr,  "
     ]
    }
   ],
   "source": [
    "count = 0 \n",
    "for i in (s - d ) :\n",
    "    count += 1\n",
    "    print(i, end=\",  \") \n",
    "    if (count % 4 == 0) :\n",
    "        print()"
   ]
  },
  {
   "cell_type": "code",
   "execution_count": 21,
   "metadata": {},
   "outputs": [
    {
     "name": "stdout",
     "output_type": "stream",
     "text": [
      "from_dict,  columns,  itertuples,  melt,  \n",
      "to_records,  boxplot,  to_parquet,  corrwith,  \n",
      "join,  to_html,  info,  stack,  \n",
      "from_items,  pivot_table,  style,  set_index,  \n",
      "iterrows,  to_stata,  lookup,  eval,  \n",
      "merge,  query,  to_feather,  applymap,  \n",
      "to_panel,  insert,  select_dtypes,  to_gbq,  \n",
      "from_records,  pivot,  assign,  "
     ]
    }
   ],
   "source": [
    "count = 0 \n",
    "for i in (d - s ) :\n",
    "    count += 1\n",
    "    print(i, end=\",  \") \n",
    "    if (count % 4 == 0) :\n",
    "        print()"
   ]
  },
  {
   "cell_type": "code",
   "execution_count": 22,
   "metadata": {},
   "outputs": [
    {
     "name": "stdout",
     "output_type": "stream",
     "text": [
      "notna,  kurt,  set_axis,  as_matrix,  duplicated,  select,  subtract,  tshift,  \n",
      "values,  ftypes,  first_valid_index,  max,  align,  tz_localize,  to_json,  var,  \n",
      "tail,  mode,  rtruediv,  unstack,  as_blocks,  to_xarray,  add_prefix,  idxmax,  \n",
      "rsub,  iloc,  rolling,  first,  empty,  pct_change,  eq,  last,  \n",
      "bool,  get,  mad,  rpow,  at_time,  median,  truncate,  equals,  \n",
      "all,  rename,  interpolate,  le,  last_valid_index,  dropna,  nlargest,  corr,  \n",
      "quantile,  transpose,  plot,  any,  describe,  ndim,  sample,  memory_usage,  \n",
      "where,  multiply,  filter,  drop_duplicates,  iat,  asof,  apply,  to_pickle,  \n",
      "add,  squeeze,  cov,  loc,  slice_shift,  gt,  nunique,  reindex_axis,  \n",
      "sort_index,  ge,  pow,  swapaxes,  append,  get_ftype_counts,  pipe,  round,  \n",
      "nsmallest,  T,  axes,  reorder_levels,  bfill,  skew,  rmod,  kurtosis,  \n",
      "sort_values,  combine_first,  items,  head,  ffill,  replace,  mod,  is_copy,  \n",
      "transform,  xs,  infer_objects,  to_excel,  pop,  to_msgpack,  isin,  prod,  \n",
      "isna,  groupby,  copy,  aggregate,  get_value,  hist,  isnull,  diff,  \n",
      "clip_upper,  astype,  to_string,  rdiv,  dtypes,  sortlevel,  rename_axis,  to_dense,  \n",
      "cummax,  shape,  to_period,  clip,  asfreq,  at,  mean,  reset_index,  \n",
      "count,  cumsum,  resample,  lt,  index,  rmul,  rfloordiv,  add_suffix,  \n",
      "size,  sub,  abs,  to_sparse,  consolidate,  sum,  divide,  ewm,  \n",
      "product,  cumprod,  min,  ne,  reindex,  sem,  take,  blocks,  \n",
      "combine,  rank,  convert_objects,  between_time,  ix,  to_dict,  reindex_like,  radd,  \n",
      "tz_convert,  floordiv,  keys,  to_sql,  set_value,  shift,  clip_lower,  compound,  \n",
      "agg,  dot,  to_timestamp,  to_csv,  notnull,  drop,  div,  to_clipboard,  \n",
      "to_latex,  swaplevel,  mask,  get_dtype_counts,  std,  fillna,  mul,  cummin,  \n",
      "get_values,  expanding,  from_csv,  to_hdf,  update,  idxmin,  truediv,  iteritems,  \n"
     ]
    }
   ],
   "source": [
    "count = 0 \n",
    "for i in (d & s ) :\n",
    "    count += 1\n",
    "    print(i, end=\",  \") \n",
    "    if (count % 8 == 0) :\n",
    "        print()"
   ]
  },
  {
   "cell_type": "code",
   "execution_count": null,
   "metadata": {},
   "outputs": [],
   "source": []
  },
  {
   "cell_type": "code",
   "execution_count": null,
   "metadata": {},
   "outputs": [],
   "source": []
  }
 ],
 "metadata": {
  "kernelspec": {
   "display_name": "Python 3",
   "language": "python",
   "name": "python3"
  },
  "language_info": {
   "codemirror_mode": {
    "name": "ipython",
    "version": 3
   },
   "file_extension": ".py",
   "mimetype": "text/x-python",
   "name": "python",
   "nbconvert_exporter": "python",
   "pygments_lexer": "ipython3",
   "version": "3.6.5"
  }
 },
 "nbformat": 4,
 "nbformat_minor": 2
}
